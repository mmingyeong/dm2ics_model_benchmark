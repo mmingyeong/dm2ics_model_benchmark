{
 "cells": [
  {
   "cell_type": "code",
   "execution_count": 1,
   "id": "ac0df40b-3af7-4632-9d35-a0a7a58e38e8",
   "metadata": {
    "execution": {
     "iopub.execute_input": "2025-06-10T03:15:43.066868Z",
     "iopub.status.busy": "2025-06-10T03:15:43.066525Z",
     "iopub.status.idle": "2025-06-10T03:15:47.084784Z",
     "shell.execute_reply": "2025-06-10T03:15:47.083574Z",
     "shell.execute_reply.started": "2025-06-10T03:15:43.066841Z"
    }
   },
   "outputs": [
    {
     "name": "stdout",
     "output_type": "stream",
     "text": [
      "🔍 PyTorch version: 2.6.0+cu118\n",
      "✅ CUDA available: False\n",
      "⚠️ No GPU is available. Check your JupyterHub session or PyTorch installation.\n"
     ]
    }
   ],
   "source": [
    "# 🧠 Check if PyTorch detects GPU\n",
    "\n",
    "import torch\n",
    "\n",
    "print(\"🔍 PyTorch version:\", torch.__version__)\n",
    "print(\"✅ CUDA available:\", torch.cuda.is_available())\n",
    "\n",
    "if torch.cuda.is_available():\n",
    "    print(\"🚀 GPU device name:\", torch.cuda.get_device_name(0))\n",
    "    print(\"🧠 GPU memory usage:\")\n",
    "    print(\"   Allocated:\", round(torch.cuda.memory_allocated(0)/1024**2, 1), \"MB\")\n",
    "    print(\"   Cached:   \", round(torch.cuda.memory_reserved(0)/1024**2, 1), \"MB\")\n",
    "else:\n",
    "    print(\"⚠️ No GPU is available. Check your JupyterHub session or PyTorch installation.\")\n"
   ]
  },
  {
   "cell_type": "code",
   "execution_count": null,
   "id": "d47125d8-5054-40f6-a268-31d4cd62f3f4",
   "metadata": {},
   "outputs": [],
   "source": []
  }
 ],
 "metadata": {
  "kernelspec": {
   "display_name": "Python (new_env)",
   "language": "python",
   "name": "new_env"
  },
  "language_info": {
   "codemirror_mode": {
    "name": "ipython",
    "version": 3
   },
   "file_extension": ".py",
   "mimetype": "text/x-python",
   "name": "python",
   "nbconvert_exporter": "python",
   "pygments_lexer": "ipython3",
   "version": "3.10.16"
  }
 },
 "nbformat": 4,
 "nbformat_minor": 5
}
