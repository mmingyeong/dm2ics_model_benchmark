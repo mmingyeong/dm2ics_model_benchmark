{
 "cells": [
  {
   "cell_type": "code",
   "execution_count": 1,
   "id": "051fe4bf-cb69-4dde-a560-6bd27592d048",
   "metadata": {},
   "outputs": [],
   "source": [
    "# Cell 0: 모듈 import를 위한 경로 설정\n",
    "import os, sys\n",
    "sys.path.append(os.path.abspath(\"..\"))  # shared, models 디렉토리 접근 가능하도록 경로 추가\n"
   ]
  },
  {
   "cell_type": "code",
   "execution_count": 2,
   "id": "2c33f512-7bb2-485b-92b8-942cf8edfabd",
   "metadata": {},
   "outputs": [
    {
     "name": "stdout",
     "output_type": "stream",
     "text": [
      "✅ PyTorch version: 2.6.0+cu124\n",
      "🚀 GPU available: True\n",
      "🧠 GPU name: Quadro RTX 5000\n",
      "💾 Total memory: 15.73 GiB\n",
      "📦 Reserved memory: 0.00 GiB\n",
      "📈 Allocated memory: 0.00 GiB\n",
      "🟢 Free memory in reserved: 0.00 GiB\n"
     ]
    }
   ],
   "source": [
    "# Cell 1: 환경 확인\n",
    "import torch\n",
    "\n",
    "print(f\"✅ PyTorch version: {torch.__version__}\")\n",
    "print(f\"🚀 GPU available: {torch.cuda.is_available()}\")\n",
    "\n",
    "if torch.cuda.is_available():\n",
    "    device = torch.device(\"cuda:0\")\n",
    "    print(f\"🧠 GPU name: {torch.cuda.get_device_name(0)}\")\n",
    "    \n",
    "    total_memory = torch.cuda.get_device_properties(device).total_memory / 1024**3  # GiB\n",
    "    reserved_memory = torch.cuda.memory_reserved(device) / 1024**3  # GiB\n",
    "    allocated_memory = torch.cuda.memory_allocated(device) / 1024**3  # GiB\n",
    "    free_memory = reserved_memory - allocated_memory  # GiB\n",
    "\n",
    "    print(f\"💾 Total memory: {total_memory:.2f} GiB\")\n",
    "    print(f\"📦 Reserved memory: {reserved_memory:.2f} GiB\")\n",
    "    print(f\"📈 Allocated memory: {allocated_memory:.2f} GiB\")\n",
    "    print(f\"🟢 Free memory in reserved: {free_memory:.2f} GiB\")\n"
   ]
  },
  {
   "cell_type": "code",
   "execution_count": 3,
   "id": "c2533429-64ef-4156-90bd-a80eff88e757",
   "metadata": {},
   "outputs": [
    {
     "name": "stderr",
     "output_type": "stream",
     "text": [
      "2025-06-13 15:24:20,996 | INFO | data_loader | 🔍 Initializing dataset with 12 file pairs.\n",
      "2025-06-13 15:24:21,017 | INFO | data_loader | 📦 Total samples across all files: 110592\n"
     ]
    },
    {
     "name": "stdout",
     "output_type": "stream",
     "text": [
      "✅ Sample loaded: input shape = torch.Size([2, 1, 60, 60, 60]), output shape = torch.Size([2, 1, 60, 60, 60])\n"
     ]
    }
   ],
   "source": [
    "# Cell 2: 데이터셋 로딩\n",
    "from torch.utils.data import DataLoader\n",
    "from shared.data_loader import HDF5Dataset\n",
    "import os\n",
    "\n",
    "input_dir = \"/caefs/data/IllustrisTNG/subcube/input\"\n",
    "output_dir = \"/caefs/data/IllustrisTNG/subcube/output\"\n",
    "\n",
    "input_files = sorted([os.path.join(input_dir, f) for f in os.listdir(input_dir) if f.endswith(\".h5\")])\n",
    "output_files = sorted([os.path.join(output_dir, f) for f in os.listdir(output_dir) if f.endswith(\".h5\")])\n",
    "\n",
    "dataset = HDF5Dataset(input_files, output_files)\n",
    "loader = DataLoader(dataset, batch_size=2, shuffle=True)\n",
    "\n",
    "x, y = next(iter(loader))\n",
    "print(f\"✅ Sample loaded: input shape = {x.shape}, output shape = {y.shape}\")\n"
   ]
  },
  {
   "cell_type": "code",
   "execution_count": 4,
   "id": "fb82d3e3-6a0f-48ad-8349-a3c5156be53b",
   "metadata": {},
   "outputs": [
    {
     "name": "stderr",
     "output_type": "stream",
     "text": [
      "2025-06-13 15:27:02,321 | INFO | models.fno.model | ✅ FNO model initialized successfully.\n"
     ]
    },
    {
     "name": "stdout",
     "output_type": "stream",
     "text": [
      "✅ FNO model loaded and set to training mode.\n"
     ]
    }
   ],
   "source": [
    "from models.fno.model import FNO\n",
    "import torch\n",
    "from torchinfo import summary\n",
    "\n",
    "# 디바이스 설정\n",
    "device = torch.device(\"cuda\" if torch.cuda.is_available() else \"cpu\")\n",
    "\n",
    "# FNO 모델 초기화\n",
    "model = FNO(\n",
    "    in_channels=1,\n",
    "    out_channels=1,\n",
    "    modes1=16,\n",
    "    modes2=16,\n",
    "    modes3=16,\n",
    "    width=128,\n",
    "    lifting_channels=64,\n",
    "    add_grid=True\n",
    ").to(device)\n",
    "\n",
    "model.train()\n",
    "print(\"✅ FNO model loaded and set to training mode.\")"
   ]
  },
  {
   "cell_type": "code",
   "execution_count": 5,
   "id": "1ac286a7-e717-4a49-bf87-322ec2af49df",
   "metadata": {},
   "outputs": [
    {
     "name": "stderr",
     "output_type": "stream",
     "text": [
      "2025-06-13 15:27:02,432 | INFO | models.fno.model | 🚀 FNO forward pass started. Input shape: torch.Size([2, 1, 60, 60, 60])\n",
      "2025-06-13 15:27:02,433 | INFO | models.fno.model | 🌐 Generating coordinate grid with shape: [60, 60, 60]\n",
      "2025-06-13 15:27:02,443 | INFO | models.fno.model | ✅ Coordinate grid generated.\n",
      "2025-06-13 15:27:02,456 | INFO | models.fno.model | 🔗 Added grid to input. New shape: torch.Size([2, 4, 60, 60, 60])\n",
      "2025-06-13 15:27:02,633 | INFO | models.fno.model | 🔁 Passed through Fourier layer 1/4\n",
      "2025-06-13 15:27:02,637 | INFO | models.fno.model | 🔁 Passed through Fourier layer 2/4\n",
      "2025-06-13 15:27:02,641 | INFO | models.fno.model | 🔁 Passed through Fourier layer 3/4\n",
      "2025-06-13 15:27:02,646 | INFO | models.fno.model | 🔁 Passed through Fourier layer 4/4\n",
      "2025-06-13 15:27:02,987 | INFO | models.fno.model | ✅ Forward pass completed. Output shape: torch.Size([2, 1, 60, 60, 60])\n"
     ]
    },
    {
     "data": {
      "text/plain": [
       "============================================================================================================================================\n",
       "Layer (type:depth-idx)                   Input Shape               Output Shape              Param #                   Kernel Shape\n",
       "============================================================================================================================================\n",
       "FNO                                      [2, 1, 60, 60, 60]        [2, 1, 60, 60, 60]        --                        --\n",
       "├─Linear: 1-1                            [432000, 4]               [432000, 64]              320                       --\n",
       "├─Linear: 1-2                            [432000, 64]              [432000, 128]             8,320                     --\n",
       "├─ModuleList: 1-3                        --                        --                        --                        --\n",
       "│    └─SpectralConvolution: 2-1          [2, 128, 60, 60, 60]      [2, 128, 60, 60, 60]      70,528                    --\n",
       "│    └─SpectralConvolution: 2-2          [2, 128, 60, 60, 60]      [2, 128, 60, 60, 60]      70,528                    --\n",
       "│    └─SpectralConvolution: 2-3          [2, 128, 60, 60, 60]      [2, 128, 60, 60, 60]      70,528                    --\n",
       "│    └─SpectralConvolution: 2-4          [2, 128, 60, 60, 60]      [2, 128, 60, 60, 60]      70,528                    --\n",
       "├─Linear: 1-4                            [2, 60, 60, 60, 128]      [2, 60, 60, 60, 128]      16,512                    --\n",
       "├─Linear: 1-5                            [2, 60, 60, 60, 128]      [2, 60, 60, 60, 1]        129                       --\n",
       "============================================================================================================================================\n",
       "Total params: 307,393\n",
       "Trainable params: 307,393\n",
       "Non-trainable params: 0\n",
       "Total mult-adds (Units.GIGABYTES): 3.73\n",
       "============================================================================================================================================\n",
       "Input size (MB): 1.73\n",
       "Forward/backward pass size (MB): 1109.38\n",
       "Params size (MB): 0.10\n",
       "Estimated Total Size (MB): 1111.21\n",
       "============================================================================================================================================"
      ]
     },
     "execution_count": 5,
     "metadata": {},
     "output_type": "execute_result"
    }
   ],
   "source": [
    "summary(model, input_size=(2, 1, 60, 60, 60),\n",
    "        col_names=[\"input_size\", \"output_size\", \"num_params\", \"kernel_size\"])\n"
   ]
  },
  {
   "cell_type": "code",
   "execution_count": 6,
   "id": "20205bcd-72cc-4c2f-a10b-54ec5689f392",
   "metadata": {},
   "outputs": [
    {
     "name": "stderr",
     "output_type": "stream",
     "text": [
      "2025-06-13 15:27:03,165 | INFO | models.fno.model | 🚀 FNO forward pass started. Input shape: torch.Size([32, 1, 60, 60, 60])\n",
      "2025-06-13 15:27:03,166 | INFO | models.fno.model | 🌐 Generating coordinate grid with shape: [60, 60, 60]\n",
      "2025-06-13 15:27:03,167 | INFO | models.fno.model | ✅ Coordinate grid generated.\n",
      "2025-06-13 15:27:03,168 | INFO | models.fno.model | 🔗 Added grid to input. New shape: torch.Size([32, 4, 60, 60, 60])\n",
      "2025-06-13 15:27:03,714 | INFO | models.fno.model | 🚀 FNO forward pass started. Input shape: torch.Size([16, 1, 60, 60, 60])\n",
      "2025-06-13 15:27:03,715 | INFO | models.fno.model | 🌐 Generating coordinate grid with shape: [60, 60, 60]\n",
      "2025-06-13 15:27:03,716 | INFO | models.fno.model | ✅ Coordinate grid generated.\n",
      "2025-06-13 15:27:03,717 | INFO | models.fno.model | 🔗 Added grid to input. New shape: torch.Size([16, 4, 60, 60, 60])\n"
     ]
    },
    {
     "name": "stdout",
     "output_type": "stream",
     "text": [
      "❌ Failed with batch_size=32: CUDA out of memory. Tried to allocate 6.59 GiB. GPU 0 has a total capacity of 15.73 GiB of which 4.15 GiB is free. Process 12502 has 26.06 MiB memory in use. Process 160031 has 1.39 GiB memory in use. Including non-PyTorch memory, this process has 10.16 GiB memory in use. Of the allocated memory 9.95 GiB is allocated by PyTorch, and 63.50 MiB is reserved by PyTorch but unallocated. If reserved but unallocated memory is large try setting PYTORCH_CUDA_ALLOC_CONF=expandable_segments:True to avoid fragmentation.  See documentation for Memory Management  (https://pytorch.org/docs/stable/notes/cuda.html#environment-variables)\n"
     ]
    },
    {
     "name": "stderr",
     "output_type": "stream",
     "text": [
      "2025-06-13 15:27:04,105 | INFO | models.fno.model | 🚀 FNO forward pass started. Input shape: torch.Size([8, 1, 60, 60, 60])\n",
      "2025-06-13 15:27:04,105 | INFO | models.fno.model | 🌐 Generating coordinate grid with shape: [60, 60, 60]\n",
      "2025-06-13 15:27:04,106 | INFO | models.fno.model | ✅ Coordinate grid generated.\n",
      "2025-06-13 15:27:04,107 | INFO | models.fno.model | 🔗 Added grid to input. New shape: torch.Size([8, 4, 60, 60, 60])\n",
      "2025-06-13 15:27:04,191 | INFO | models.fno.model | 🔁 Passed through Fourier layer 1/4\n",
      "2025-06-13 15:27:04,196 | INFO | models.fno.model | 🔁 Passed through Fourier layer 2/4\n",
      "2025-06-13 15:27:04,199 | INFO | models.fno.model | 🔁 Passed through Fourier layer 3/4\n",
      "2025-06-13 15:27:04,203 | INFO | models.fno.model | 🔁 Passed through Fourier layer 4/4\n",
      "2025-06-13 15:27:04,204 | INFO | models.fno.model | ✅ Forward pass completed. Output shape: torch.Size([8, 1, 60, 60, 60])\n"
     ]
    },
    {
     "name": "stdout",
     "output_type": "stream",
     "text": [
      "❌ Failed with batch_size=16: CUDA out of memory. Tried to allocate 3.30 GiB. GPU 0 has a total capacity of 15.73 GiB of which 872.50 MiB is free. Process 12502 has 26.06 MiB memory in use. Process 160031 has 1.39 GiB memory in use. Including non-PyTorch memory, this process has 13.46 GiB memory in use. Of the allocated memory 11.57 GiB is allocated by PyTorch, and 1.74 GiB is reserved by PyTorch but unallocated. If reserved but unallocated memory is large try setting PYTORCH_CUDA_ALLOC_CONF=expandable_segments:True to avoid fragmentation.  See documentation for Memory Management  (https://pytorch.org/docs/stable/notes/cuda.html#environment-variables)\n",
      "✅ Success with batch_size=8\n"
     ]
    },
    {
     "name": "stderr",
     "output_type": "stream",
     "text": [
      "2025-06-13 15:27:04,991 | INFO | models.fno.model | 🚀 FNO forward pass started. Input shape: torch.Size([4, 1, 60, 60, 60])\n",
      "2025-06-13 15:27:04,992 | INFO | models.fno.model | 🌐 Generating coordinate grid with shape: [60, 60, 60]\n",
      "2025-06-13 15:27:04,993 | INFO | models.fno.model | ✅ Coordinate grid generated.\n",
      "2025-06-13 15:27:04,994 | INFO | models.fno.model | 🔗 Added grid to input. New shape: torch.Size([4, 4, 60, 60, 60])\n",
      "2025-06-13 15:27:05,040 | INFO | models.fno.model | 🔁 Passed through Fourier layer 1/4\n",
      "2025-06-13 15:27:05,044 | INFO | models.fno.model | 🔁 Passed through Fourier layer 2/4\n",
      "2025-06-13 15:27:05,048 | INFO | models.fno.model | 🔁 Passed through Fourier layer 3/4\n",
      "2025-06-13 15:27:05,051 | INFO | models.fno.model | 🔁 Passed through Fourier layer 4/4\n",
      "2025-06-13 15:27:05,053 | INFO | models.fno.model | ✅ Forward pass completed. Output shape: torch.Size([4, 1, 60, 60, 60])\n"
     ]
    },
    {
     "name": "stdout",
     "output_type": "stream",
     "text": [
      "✅ Success with batch_size=4\n"
     ]
    },
    {
     "name": "stderr",
     "output_type": "stream",
     "text": [
      "2025-06-13 15:27:05,605 | INFO | models.fno.model | 🚀 FNO forward pass started. Input shape: torch.Size([2, 1, 60, 60, 60])\n",
      "2025-06-13 15:27:05,606 | INFO | models.fno.model | 🌐 Generating coordinate grid with shape: [60, 60, 60]\n",
      "2025-06-13 15:27:05,607 | INFO | models.fno.model | ✅ Coordinate grid generated.\n",
      "2025-06-13 15:27:05,608 | INFO | models.fno.model | 🔗 Added grid to input. New shape: torch.Size([2, 4, 60, 60, 60])\n",
      "2025-06-13 15:27:05,611 | INFO | models.fno.model | 🔁 Passed through Fourier layer 1/4\n",
      "2025-06-13 15:27:05,614 | INFO | models.fno.model | 🔁 Passed through Fourier layer 2/4\n",
      "2025-06-13 15:27:05,616 | INFO | models.fno.model | 🔁 Passed through Fourier layer 3/4\n",
      "2025-06-13 15:27:05,618 | INFO | models.fno.model | 🔁 Passed through Fourier layer 4/4\n",
      "2025-06-13 15:27:05,619 | INFO | models.fno.model | ✅ Forward pass completed. Output shape: torch.Size([2, 1, 60, 60, 60])\n"
     ]
    },
    {
     "name": "stdout",
     "output_type": "stream",
     "text": [
      "✅ Success with batch_size=2\n"
     ]
    },
    {
     "name": "stderr",
     "output_type": "stream",
     "text": [
      "2025-06-13 15:27:06,082 | INFO | models.fno.model | 🚀 FNO forward pass started. Input shape: torch.Size([1, 1, 60, 60, 60])\n",
      "2025-06-13 15:27:06,083 | INFO | models.fno.model | 🌐 Generating coordinate grid with shape: [60, 60, 60]\n",
      "2025-06-13 15:27:06,085 | INFO | models.fno.model | ✅ Coordinate grid generated.\n",
      "2025-06-13 15:27:06,086 | INFO | models.fno.model | 🔗 Added grid to input. New shape: torch.Size([1, 4, 60, 60, 60])\n",
      "2025-06-13 15:27:06,104 | INFO | models.fno.model | 🔁 Passed through Fourier layer 1/4\n",
      "2025-06-13 15:27:06,108 | INFO | models.fno.model | 🔁 Passed through Fourier layer 2/4\n",
      "2025-06-13 15:27:06,112 | INFO | models.fno.model | 🔁 Passed through Fourier layer 3/4\n",
      "2025-06-13 15:27:06,116 | INFO | models.fno.model | 🔁 Passed through Fourier layer 4/4\n",
      "2025-06-13 15:27:06,117 | INFO | models.fno.model | ✅ Forward pass completed. Output shape: torch.Size([1, 1, 60, 60, 60])\n"
     ]
    },
    {
     "name": "stdout",
     "output_type": "stream",
     "text": [
      "✅ Success with batch_size=1\n"
     ]
    }
   ],
   "source": [
    "def test_batch_size(batch_size):\n",
    "    try:\n",
    "        loader = DataLoader(dataset, batch_size=batch_size, shuffle=False)\n",
    "        model.eval()\n",
    "        with torch.no_grad():\n",
    "            for x, y in loader:\n",
    "                x, y = x.to(device), y.to(device)\n",
    "                _ = model(x)\n",
    "                print(f\"✅ Success with batch_size={batch_size}\")\n",
    "                break\n",
    "    except RuntimeError as e:\n",
    "        print(f\"❌ Failed with batch_size={batch_size}: {str(e).splitlines()[0]}\")\n",
    "\n",
    "for bs in [32, 16, 8, 4, 2, 1]:\n",
    "    test_batch_size(bs)\n"
   ]
  },
  {
   "cell_type": "code",
   "execution_count": 7,
   "id": "e2ac54ce-3ade-4ecd-9994-9cf5823959ee",
   "metadata": {},
   "outputs": [
    {
     "name": "stdout",
     "output_type": "stream",
     "text": [
      "✅ MSE Loss on sample batch: 49.3246\n"
     ]
    }
   ],
   "source": [
    "from shared.losses import mse_loss, spectral_loss\n",
    "\n",
    "loss_val = mse_loss(x.to(device), y.to(device))\n",
    "print(f\"✅ MSE Loss on sample batch: {loss_val.item():.4f}\")\n"
   ]
  },
  {
   "cell_type": "code",
   "execution_count": 8,
   "id": "bc3834fd-c938-4697-80ce-c311fc22d92c",
   "metadata": {},
   "outputs": [
    {
     "name": "stdout",
     "output_type": "stream",
     "text": [
      "✅ Optimizer and LR scheduler initialized.\n"
     ]
    }
   ],
   "source": [
    "import torch.optim as optim\n",
    "\n",
    "optimizer = optim.Adam(model.parameters(), lr=1e-4)\n",
    "scheduler = optim.lr_scheduler.CosineAnnealingLR(optimizer, T_max=10)\n",
    "print(\"✅ Optimizer and LR scheduler initialized.\")\n"
   ]
  },
  {
   "cell_type": "code",
   "execution_count": 9,
   "id": "1de346c0-7eb5-4715-9a9d-149762f80ab6",
   "metadata": {},
   "outputs": [
    {
     "name": "stderr",
     "output_type": "stream",
     "text": [
      "Epoch 1:   0%|          | 0/27648 [00:00<?, ?it/s]2025-06-13 15:27:09,110 | INFO | models.fno.model | 🚀 FNO forward pass started. Input shape: torch.Size([4, 1, 60, 60, 60])\n",
      "2025-06-13 15:27:09,114 | INFO | models.fno.model | 🌐 Generating coordinate grid with shape: [60, 60, 60]\n",
      "2025-06-13 15:27:09,116 | INFO | models.fno.model | ✅ Coordinate grid generated.\n",
      "2025-06-13 15:27:09,116 | INFO | models.fno.model | 🔗 Added grid to input. New shape: torch.Size([4, 4, 60, 60, 60])\n",
      "2025-06-13 15:27:09,121 | INFO | models.fno.model | 🔁 Passed through Fourier layer 1/4\n",
      "2025-06-13 15:27:09,124 | INFO | models.fno.model | 🔁 Passed through Fourier layer 2/4\n",
      "2025-06-13 15:27:09,127 | INFO | models.fno.model | 🔁 Passed through Fourier layer 3/4\n",
      "2025-06-13 15:27:09,131 | INFO | models.fno.model | 🔁 Passed through Fourier layer 4/4\n",
      "2025-06-13 15:27:09,133 | INFO | models.fno.model | ✅ Forward pass completed. Output shape: torch.Size([4, 1, 60, 60, 60])\n",
      "Epoch 1:   0%|          | 1/27648 [00:01<12:47:00,  1.66s/it]2025-06-13 15:27:10,737 | INFO | models.fno.model | 🚀 FNO forward pass started. Input shape: torch.Size([4, 1, 60, 60, 60])\n",
      "2025-06-13 15:27:10,739 | INFO | models.fno.model | 🌐 Generating coordinate grid with shape: [60, 60, 60]\n",
      "2025-06-13 15:27:10,740 | INFO | models.fno.model | ✅ Coordinate grid generated.\n",
      "2025-06-13 15:27:10,741 | INFO | models.fno.model | 🔗 Added grid to input. New shape: torch.Size([4, 4, 60, 60, 60])\n",
      "2025-06-13 15:27:10,745 | INFO | models.fno.model | 🔁 Passed through Fourier layer 1/4\n",
      "2025-06-13 15:27:10,748 | INFO | models.fno.model | 🔁 Passed through Fourier layer 2/4\n",
      "2025-06-13 15:27:10,752 | INFO | models.fno.model | 🔁 Passed through Fourier layer 3/4\n",
      "2025-06-13 15:27:10,755 | INFO | models.fno.model | 🔁 Passed through Fourier layer 4/4\n",
      "2025-06-13 15:27:10,756 | INFO | models.fno.model | ✅ Forward pass completed. Output shape: torch.Size([4, 1, 60, 60, 60])\n",
      "Epoch 1:   0%|          | 2/27648 [00:03<12:26:01,  1.62s/it]2025-06-13 15:27:12,254 | INFO | models.fno.model | 🚀 FNO forward pass started. Input shape: torch.Size([4, 1, 60, 60, 60])\n",
      "2025-06-13 15:27:12,257 | INFO | models.fno.model | 🌐 Generating coordinate grid with shape: [60, 60, 60]\n",
      "2025-06-13 15:27:12,258 | INFO | models.fno.model | ✅ Coordinate grid generated.\n",
      "2025-06-13 15:27:12,259 | INFO | models.fno.model | 🔗 Added grid to input. New shape: torch.Size([4, 4, 60, 60, 60])\n",
      "2025-06-13 15:27:12,263 | INFO | models.fno.model | 🔁 Passed through Fourier layer 1/4\n",
      "2025-06-13 15:27:12,267 | INFO | models.fno.model | 🔁 Passed through Fourier layer 2/4\n",
      "2025-06-13 15:27:12,270 | INFO | models.fno.model | 🔁 Passed through Fourier layer 3/4\n",
      "2025-06-13 15:27:12,273 | INFO | models.fno.model | 🔁 Passed through Fourier layer 4/4\n",
      "2025-06-13 15:27:12,274 | INFO | models.fno.model | ✅ Forward pass completed. Output shape: torch.Size([4, 1, 60, 60, 60])\n",
      "Epoch 1:   0%|          | 3/27648 [00:04<12:04:56,  1.57s/it]2025-06-13 15:27:13,753 | INFO | models.fno.model | 🚀 FNO forward pass started. Input shape: torch.Size([4, 1, 60, 60, 60])\n",
      "2025-06-13 15:27:13,754 | INFO | models.fno.model | 🌐 Generating coordinate grid with shape: [60, 60, 60]\n",
      "2025-06-13 15:27:13,755 | INFO | models.fno.model | ✅ Coordinate grid generated.\n",
      "2025-06-13 15:27:13,756 | INFO | models.fno.model | 🔗 Added grid to input. New shape: torch.Size([4, 4, 60, 60, 60])\n",
      "2025-06-13 15:27:13,760 | INFO | models.fno.model | 🔁 Passed through Fourier layer 1/4\n",
      "2025-06-13 15:27:13,763 | INFO | models.fno.model | 🔁 Passed through Fourier layer 2/4\n",
      "2025-06-13 15:27:13,766 | INFO | models.fno.model | 🔁 Passed through Fourier layer 3/4\n",
      "2025-06-13 15:27:13,768 | INFO | models.fno.model | 🔁 Passed through Fourier layer 4/4\n",
      "2025-06-13 15:27:13,769 | INFO | models.fno.model | ✅ Forward pass completed. Output shape: torch.Size([4, 1, 60, 60, 60])\n",
      "Epoch 1:   0%|          | 4/27648 [00:06<11:50:26,  1.54s/it]2025-06-13 15:27:15,246 | INFO | models.fno.model | 🚀 FNO forward pass started. Input shape: torch.Size([4, 1, 60, 60, 60])\n",
      "2025-06-13 15:27:15,247 | INFO | models.fno.model | 🌐 Generating coordinate grid with shape: [60, 60, 60]\n",
      "2025-06-13 15:27:15,248 | INFO | models.fno.model | ✅ Coordinate grid generated.\n",
      "2025-06-13 15:27:15,249 | INFO | models.fno.model | 🔗 Added grid to input. New shape: torch.Size([4, 4, 60, 60, 60])\n",
      "2025-06-13 15:27:15,254 | INFO | models.fno.model | 🔁 Passed through Fourier layer 1/4\n",
      "2025-06-13 15:27:15,259 | INFO | models.fno.model | 🔁 Passed through Fourier layer 2/4\n",
      "2025-06-13 15:27:15,262 | INFO | models.fno.model | 🔁 Passed through Fourier layer 3/4\n",
      "2025-06-13 15:27:15,266 | INFO | models.fno.model | 🔁 Passed through Fourier layer 4/4\n",
      "2025-06-13 15:27:15,267 | INFO | models.fno.model | ✅ Forward pass completed. Output shape: torch.Size([4, 1, 60, 60, 60])\n",
      "Epoch 1:   0%|          | 5/27648 [00:07<11:43:07,  1.53s/it]2025-06-13 15:27:16,710 | INFO | models.fno.model | 🚀 FNO forward pass started. Input shape: torch.Size([4, 1, 60, 60, 60])\n",
      "2025-06-13 15:27:16,711 | INFO | models.fno.model | 🌐 Generating coordinate grid with shape: [60, 60, 60]\n",
      "2025-06-13 15:27:16,713 | INFO | models.fno.model | ✅ Coordinate grid generated.\n",
      "2025-06-13 15:27:16,714 | INFO | models.fno.model | 🔗 Added grid to input. New shape: torch.Size([4, 4, 60, 60, 60])\n",
      "2025-06-13 15:27:16,719 | INFO | models.fno.model | 🔁 Passed through Fourier layer 1/4\n",
      "2025-06-13 15:27:16,723 | INFO | models.fno.model | 🔁 Passed through Fourier layer 2/4\n",
      "2025-06-13 15:27:16,727 | INFO | models.fno.model | 🔁 Passed through Fourier layer 3/4\n",
      "2025-06-13 15:27:16,730 | INFO | models.fno.model | 🔁 Passed through Fourier layer 4/4\n",
      "2025-06-13 15:27:16,732 | INFO | models.fno.model | ✅ Forward pass completed. Output shape: torch.Size([4, 1, 60, 60, 60])\n",
      "Epoch 1:   0%|          | 6/27648 [00:09<11:32:30,  1.50s/it]2025-06-13 15:27:18,193 | INFO | models.fno.model | 🚀 FNO forward pass started. Input shape: torch.Size([4, 1, 60, 60, 60])\n",
      "2025-06-13 15:27:18,194 | INFO | models.fno.model | 🌐 Generating coordinate grid with shape: [60, 60, 60]\n",
      "2025-06-13 15:27:18,196 | INFO | models.fno.model | ✅ Coordinate grid generated.\n",
      "2025-06-13 15:27:18,197 | INFO | models.fno.model | 🔗 Added grid to input. New shape: torch.Size([4, 4, 60, 60, 60])\n",
      "2025-06-13 15:27:18,202 | INFO | models.fno.model | 🔁 Passed through Fourier layer 1/4\n",
      "2025-06-13 15:27:18,207 | INFO | models.fno.model | 🔁 Passed through Fourier layer 2/4\n",
      "2025-06-13 15:27:18,211 | INFO | models.fno.model | 🔁 Passed through Fourier layer 3/4\n",
      "2025-06-13 15:27:18,214 | INFO | models.fno.model | 🔁 Passed through Fourier layer 4/4\n",
      "2025-06-13 15:27:18,216 | INFO | models.fno.model | ✅ Forward pass completed. Output shape: torch.Size([4, 1, 60, 60, 60])\n",
      "Epoch 1:   0%|          | 7/27648 [00:10<11:29:45,  1.50s/it]2025-06-13 15:27:19,670 | INFO | models.fno.model | 🚀 FNO forward pass started. Input shape: torch.Size([4, 1, 60, 60, 60])\n",
      "2025-06-13 15:27:19,671 | INFO | models.fno.model | 🌐 Generating coordinate grid with shape: [60, 60, 60]\n",
      "2025-06-13 15:27:19,672 | INFO | models.fno.model | ✅ Coordinate grid generated.\n",
      "2025-06-13 15:27:19,673 | INFO | models.fno.model | 🔗 Added grid to input. New shape: torch.Size([4, 4, 60, 60, 60])\n",
      "2025-06-13 15:27:19,678 | INFO | models.fno.model | 🔁 Passed through Fourier layer 1/4\n",
      "2025-06-13 15:27:19,682 | INFO | models.fno.model | 🔁 Passed through Fourier layer 2/4\n",
      "2025-06-13 15:27:19,685 | INFO | models.fno.model | 🔁 Passed through Fourier layer 3/4\n",
      "2025-06-13 15:27:19,689 | INFO | models.fno.model | 🔁 Passed through Fourier layer 4/4\n",
      "2025-06-13 15:27:19,690 | INFO | models.fno.model | ✅ Forward pass completed. Output shape: torch.Size([4, 1, 60, 60, 60])\n",
      "Epoch 1:   0%|          | 8/27648 [00:12<11:26:28,  1.49s/it]2025-06-13 15:27:21,186 | INFO | models.fno.model | 🚀 FNO forward pass started. Input shape: torch.Size([4, 1, 60, 60, 60])\n",
      "2025-06-13 15:27:21,187 | INFO | models.fno.model | 🌐 Generating coordinate grid with shape: [60, 60, 60]\n",
      "2025-06-13 15:27:21,188 | INFO | models.fno.model | ✅ Coordinate grid generated.\n",
      "2025-06-13 15:27:21,189 | INFO | models.fno.model | 🔗 Added grid to input. New shape: torch.Size([4, 4, 60, 60, 60])\n",
      "2025-06-13 15:27:21,195 | INFO | models.fno.model | 🔁 Passed through Fourier layer 1/4\n",
      "2025-06-13 15:27:21,199 | INFO | models.fno.model | 🔁 Passed through Fourier layer 2/4\n",
      "2025-06-13 15:27:21,203 | INFO | models.fno.model | 🔁 Passed through Fourier layer 3/4\n",
      "2025-06-13 15:27:21,207 | INFO | models.fno.model | 🔁 Passed through Fourier layer 4/4\n",
      "2025-06-13 15:27:21,209 | INFO | models.fno.model | ✅ Forward pass completed. Output shape: torch.Size([4, 1, 60, 60, 60])\n",
      "Epoch 1:   0%|          | 9/27648 [00:13<11:30:26,  1.50s/it]2025-06-13 15:27:22,645 | INFO | models.fno.model | 🚀 FNO forward pass started. Input shape: torch.Size([4, 1, 60, 60, 60])\n",
      "2025-06-13 15:27:22,646 | INFO | models.fno.model | 🌐 Generating coordinate grid with shape: [60, 60, 60]\n",
      "2025-06-13 15:27:22,647 | INFO | models.fno.model | ✅ Coordinate grid generated.\n",
      "2025-06-13 15:27:22,649 | INFO | models.fno.model | 🔗 Added grid to input. New shape: torch.Size([4, 4, 60, 60, 60])\n",
      "2025-06-13 15:27:22,654 | INFO | models.fno.model | 🔁 Passed through Fourier layer 1/4\n",
      "2025-06-13 15:27:22,658 | INFO | models.fno.model | 🔁 Passed through Fourier layer 2/4\n",
      "2025-06-13 15:27:22,663 | INFO | models.fno.model | 🔁 Passed through Fourier layer 3/4\n",
      "2025-06-13 15:27:22,666 | INFO | models.fno.model | 🔁 Passed through Fourier layer 4/4\n",
      "2025-06-13 15:27:22,667 | INFO | models.fno.model | ✅ Forward pass completed. Output shape: torch.Size([4, 1, 60, 60, 60])\n",
      "Epoch 1:   0%|          | 10/27648 [00:15<11:49:08,  1.54s/it]\n"
     ]
    },
    {
     "name": "stdout",
     "output_type": "stream",
     "text": [
      "📉 Epoch 1 Loss: 1.0397 | LR: 9.76e-05\n"
     ]
    },
    {
     "name": "stderr",
     "output_type": "stream",
     "text": [
      "Epoch 2:   0%|          | 0/27648 [00:00<?, ?it/s]2025-06-13 15:27:24,315 | INFO | models.fno.model | 🚀 FNO forward pass started. Input shape: torch.Size([4, 1, 60, 60, 60])\n",
      "2025-06-13 15:27:24,316 | INFO | models.fno.model | 🌐 Generating coordinate grid with shape: [60, 60, 60]\n",
      "2025-06-13 15:27:24,318 | INFO | models.fno.model | ✅ Coordinate grid generated.\n",
      "2025-06-13 15:27:24,319 | INFO | models.fno.model | 🔗 Added grid to input. New shape: torch.Size([4, 4, 60, 60, 60])\n",
      "2025-06-13 15:27:24,324 | INFO | models.fno.model | 🔁 Passed through Fourier layer 1/4\n",
      "2025-06-13 15:27:24,328 | INFO | models.fno.model | 🔁 Passed through Fourier layer 2/4\n",
      "2025-06-13 15:27:24,332 | INFO | models.fno.model | 🔁 Passed through Fourier layer 3/4\n",
      "2025-06-13 15:27:24,336 | INFO | models.fno.model | 🔁 Passed through Fourier layer 4/4\n",
      "2025-06-13 15:27:24,337 | INFO | models.fno.model | ✅ Forward pass completed. Output shape: torch.Size([4, 1, 60, 60, 60])\n",
      "Epoch 2:   0%|          | 1/27648 [00:01<10:58:37,  1.43s/it]2025-06-13 15:27:25,856 | INFO | models.fno.model | 🚀 FNO forward pass started. Input shape: torch.Size([4, 1, 60, 60, 60])\n",
      "2025-06-13 15:27:25,857 | INFO | models.fno.model | 🌐 Generating coordinate grid with shape: [60, 60, 60]\n",
      "2025-06-13 15:27:25,858 | INFO | models.fno.model | ✅ Coordinate grid generated.\n",
      "2025-06-13 15:27:25,859 | INFO | models.fno.model | 🔗 Added grid to input. New shape: torch.Size([4, 4, 60, 60, 60])\n",
      "2025-06-13 15:27:25,864 | INFO | models.fno.model | 🔁 Passed through Fourier layer 1/4\n",
      "2025-06-13 15:27:25,867 | INFO | models.fno.model | 🔁 Passed through Fourier layer 2/4\n",
      "2025-06-13 15:27:25,870 | INFO | models.fno.model | 🔁 Passed through Fourier layer 3/4\n",
      "2025-06-13 15:27:25,873 | INFO | models.fno.model | 🔁 Passed through Fourier layer 4/4\n",
      "2025-06-13 15:27:25,874 | INFO | models.fno.model | ✅ Forward pass completed. Output shape: torch.Size([4, 1, 60, 60, 60])\n",
      "Epoch 2:   0%|          | 2/27648 [00:02<11:34:43,  1.51s/it]2025-06-13 15:27:27,413 | INFO | models.fno.model | 🚀 FNO forward pass started. Input shape: torch.Size([4, 1, 60, 60, 60])\n",
      "2025-06-13 15:27:27,414 | INFO | models.fno.model | 🌐 Generating coordinate grid with shape: [60, 60, 60]\n",
      "2025-06-13 15:27:27,415 | INFO | models.fno.model | ✅ Coordinate grid generated.\n",
      "2025-06-13 15:27:27,416 | INFO | models.fno.model | 🔗 Added grid to input. New shape: torch.Size([4, 4, 60, 60, 60])\n",
      "2025-06-13 15:27:27,420 | INFO | models.fno.model | 🔁 Passed through Fourier layer 1/4\n",
      "2025-06-13 15:27:27,422 | INFO | models.fno.model | 🔁 Passed through Fourier layer 2/4\n",
      "2025-06-13 15:27:27,425 | INFO | models.fno.model | 🔁 Passed through Fourier layer 3/4\n",
      "2025-06-13 15:27:27,427 | INFO | models.fno.model | 🔁 Passed through Fourier layer 4/4\n",
      "2025-06-13 15:27:27,428 | INFO | models.fno.model | ✅ Forward pass completed. Output shape: torch.Size([4, 1, 60, 60, 60])\n",
      "Epoch 2:   0%|          | 3/27648 [00:04<11:41:26,  1.52s/it]2025-06-13 15:27:28,917 | INFO | models.fno.model | 🚀 FNO forward pass started. Input shape: torch.Size([4, 1, 60, 60, 60])\n",
      "2025-06-13 15:27:28,918 | INFO | models.fno.model | 🌐 Generating coordinate grid with shape: [60, 60, 60]\n",
      "2025-06-13 15:27:28,919 | INFO | models.fno.model | ✅ Coordinate grid generated.\n",
      "2025-06-13 15:27:28,920 | INFO | models.fno.model | 🔗 Added grid to input. New shape: torch.Size([4, 4, 60, 60, 60])\n",
      "2025-06-13 15:27:28,926 | INFO | models.fno.model | 🔁 Passed through Fourier layer 1/4\n",
      "2025-06-13 15:27:28,930 | INFO | models.fno.model | 🔁 Passed through Fourier layer 2/4\n",
      "2025-06-13 15:27:28,934 | INFO | models.fno.model | 🔁 Passed through Fourier layer 3/4\n",
      "2025-06-13 15:27:28,938 | INFO | models.fno.model | 🔁 Passed through Fourier layer 4/4\n",
      "2025-06-13 15:27:28,939 | INFO | models.fno.model | ✅ Forward pass completed. Output shape: torch.Size([4, 1, 60, 60, 60])\n",
      "Epoch 2:   0%|          | 4/27648 [00:06<11:37:47,  1.51s/it]2025-06-13 15:27:30,413 | INFO | models.fno.model | 🚀 FNO forward pass started. Input shape: torch.Size([4, 1, 60, 60, 60])\n",
      "2025-06-13 15:27:30,414 | INFO | models.fno.model | 🌐 Generating coordinate grid with shape: [60, 60, 60]\n",
      "2025-06-13 15:27:30,415 | INFO | models.fno.model | ✅ Coordinate grid generated.\n",
      "2025-06-13 15:27:30,417 | INFO | models.fno.model | 🔗 Added grid to input. New shape: torch.Size([4, 4, 60, 60, 60])\n",
      "2025-06-13 15:27:30,422 | INFO | models.fno.model | 🔁 Passed through Fourier layer 1/4\n",
      "2025-06-13 15:27:30,427 | INFO | models.fno.model | 🔁 Passed through Fourier layer 2/4\n",
      "2025-06-13 15:27:30,431 | INFO | models.fno.model | 🔁 Passed through Fourier layer 3/4\n",
      "2025-06-13 15:27:30,436 | INFO | models.fno.model | 🔁 Passed through Fourier layer 4/4\n",
      "2025-06-13 15:27:30,437 | INFO | models.fno.model | ✅ Forward pass completed. Output shape: torch.Size([4, 1, 60, 60, 60])\n",
      "Epoch 2:   0%|          | 5/27648 [00:07<11:34:43,  1.51s/it]2025-06-13 15:27:31,724 | INFO | models.fno.model | 🚀 FNO forward pass started. Input shape: torch.Size([4, 1, 60, 60, 60])\n",
      "2025-06-13 15:27:31,725 | INFO | models.fno.model | 🌐 Generating coordinate grid with shape: [60, 60, 60]\n",
      "2025-06-13 15:27:31,726 | INFO | models.fno.model | ✅ Coordinate grid generated.\n",
      "2025-06-13 15:27:31,728 | INFO | models.fno.model | 🔗 Added grid to input. New shape: torch.Size([4, 4, 60, 60, 60])\n",
      "2025-06-13 15:27:31,732 | INFO | models.fno.model | 🔁 Passed through Fourier layer 1/4\n",
      "2025-06-13 15:27:31,735 | INFO | models.fno.model | 🔁 Passed through Fourier layer 2/4\n",
      "2025-06-13 15:27:31,738 | INFO | models.fno.model | 🔁 Passed through Fourier layer 3/4\n",
      "2025-06-13 15:27:31,741 | INFO | models.fno.model | 🔁 Passed through Fourier layer 4/4\n",
      "2025-06-13 15:27:31,742 | INFO | models.fno.model | ✅ Forward pass completed. Output shape: torch.Size([4, 1, 60, 60, 60])\n",
      "Epoch 2:   0%|          | 6/27648 [00:08<11:04:06,  1.44s/it]2025-06-13 15:27:33,271 | INFO | models.fno.model | 🚀 FNO forward pass started. Input shape: torch.Size([4, 1, 60, 60, 60])\n",
      "2025-06-13 15:27:33,272 | INFO | models.fno.model | 🌐 Generating coordinate grid with shape: [60, 60, 60]\n",
      "2025-06-13 15:27:33,273 | INFO | models.fno.model | ✅ Coordinate grid generated.\n",
      "2025-06-13 15:27:33,275 | INFO | models.fno.model | 🔗 Added grid to input. New shape: torch.Size([4, 4, 60, 60, 60])\n",
      "2025-06-13 15:27:33,282 | INFO | models.fno.model | 🔁 Passed through Fourier layer 1/4\n",
      "2025-06-13 15:27:33,287 | INFO | models.fno.model | 🔁 Passed through Fourier layer 2/4\n",
      "2025-06-13 15:27:33,292 | INFO | models.fno.model | 🔁 Passed through Fourier layer 3/4\n",
      "2025-06-13 15:27:33,297 | INFO | models.fno.model | 🔁 Passed through Fourier layer 4/4\n",
      "2025-06-13 15:27:33,298 | INFO | models.fno.model | ✅ Forward pass completed. Output shape: torch.Size([4, 1, 60, 60, 60])\n",
      "Epoch 2:   0%|          | 7/27648 [00:10<11:19:34,  1.48s/it]2025-06-13 15:27:34,842 | INFO | models.fno.model | 🚀 FNO forward pass started. Input shape: torch.Size([4, 1, 60, 60, 60])\n",
      "2025-06-13 15:27:34,843 | INFO | models.fno.model | 🌐 Generating coordinate grid with shape: [60, 60, 60]\n",
      "2025-06-13 15:27:34,845 | INFO | models.fno.model | ✅ Coordinate grid generated.\n",
      "2025-06-13 15:27:34,846 | INFO | models.fno.model | 🔗 Added grid to input. New shape: torch.Size([4, 4, 60, 60, 60])\n",
      "2025-06-13 15:27:34,852 | INFO | models.fno.model | 🔁 Passed through Fourier layer 1/4\n",
      "2025-06-13 15:27:34,858 | INFO | models.fno.model | 🔁 Passed through Fourier layer 2/4\n",
      "2025-06-13 15:27:34,864 | INFO | models.fno.model | 🔁 Passed through Fourier layer 3/4\n",
      "2025-06-13 15:27:34,868 | INFO | models.fno.model | 🔁 Passed through Fourier layer 4/4\n",
      "2025-06-13 15:27:34,870 | INFO | models.fno.model | ✅ Forward pass completed. Output shape: torch.Size([4, 1, 60, 60, 60])\n",
      "Epoch 2:   0%|          | 8/27648 [00:11<11:33:14,  1.50s/it]2025-06-13 15:27:36,274 | INFO | models.fno.model | 🚀 FNO forward pass started. Input shape: torch.Size([4, 1, 60, 60, 60])\n",
      "2025-06-13 15:27:36,275 | INFO | models.fno.model | 🌐 Generating coordinate grid with shape: [60, 60, 60]\n",
      "2025-06-13 15:27:36,276 | INFO | models.fno.model | ✅ Coordinate grid generated.\n",
      "2025-06-13 15:27:36,278 | INFO | models.fno.model | 🔗 Added grid to input. New shape: torch.Size([4, 4, 60, 60, 60])\n",
      "2025-06-13 15:27:36,284 | INFO | models.fno.model | 🔁 Passed through Fourier layer 1/4\n",
      "2025-06-13 15:27:36,290 | INFO | models.fno.model | 🔁 Passed through Fourier layer 2/4\n",
      "2025-06-13 15:27:36,295 | INFO | models.fno.model | 🔁 Passed through Fourier layer 3/4\n",
      "2025-06-13 15:27:36,300 | INFO | models.fno.model | 🔁 Passed through Fourier layer 4/4\n",
      "2025-06-13 15:27:36,302 | INFO | models.fno.model | ✅ Forward pass completed. Output shape: torch.Size([4, 1, 60, 60, 60])\n",
      "Epoch 2:   0%|          | 9/27648 [00:13<11:22:41,  1.48s/it]2025-06-13 15:27:37,754 | INFO | models.fno.model | 🚀 FNO forward pass started. Input shape: torch.Size([4, 1, 60, 60, 60])\n",
      "2025-06-13 15:27:37,755 | INFO | models.fno.model | 🌐 Generating coordinate grid with shape: [60, 60, 60]\n",
      "2025-06-13 15:27:37,756 | INFO | models.fno.model | ✅ Coordinate grid generated.\n",
      "2025-06-13 15:27:37,757 | INFO | models.fno.model | 🔗 Added grid to input. New shape: torch.Size([4, 4, 60, 60, 60])\n",
      "2025-06-13 15:27:37,763 | INFO | models.fno.model | 🔁 Passed through Fourier layer 1/4\n",
      "2025-06-13 15:27:37,769 | INFO | models.fno.model | 🔁 Passed through Fourier layer 2/4\n",
      "2025-06-13 15:27:37,774 | INFO | models.fno.model | 🔁 Passed through Fourier layer 3/4\n",
      "2025-06-13 15:27:37,779 | INFO | models.fno.model | 🔁 Passed through Fourier layer 4/4\n",
      "2025-06-13 15:27:37,780 | INFO | models.fno.model | ✅ Forward pass completed. Output shape: torch.Size([4, 1, 60, 60, 60])\n",
      "Epoch 2:   0%|          | 10/27648 [00:15<11:37:07,  1.51s/it]\n"
     ]
    },
    {
     "name": "stdout",
     "output_type": "stream",
     "text": [
      "📉 Epoch 2 Loss: 1.0064 | LR: 9.05e-05\n"
     ]
    },
    {
     "name": "stderr",
     "output_type": "stream",
     "text": [
      "Epoch 3:   0%|          | 0/27648 [00:00<?, ?it/s]2025-06-13 15:27:39,550 | INFO | models.fno.model | 🚀 FNO forward pass started. Input shape: torch.Size([4, 1, 60, 60, 60])\n",
      "2025-06-13 15:27:39,551 | INFO | models.fno.model | 🌐 Generating coordinate grid with shape: [60, 60, 60]\n",
      "2025-06-13 15:27:39,553 | INFO | models.fno.model | ✅ Coordinate grid generated.\n",
      "2025-06-13 15:27:39,554 | INFO | models.fno.model | 🔗 Added grid to input. New shape: torch.Size([4, 4, 60, 60, 60])\n",
      "2025-06-13 15:27:39,558 | INFO | models.fno.model | 🔁 Passed through Fourier layer 1/4\n",
      "2025-06-13 15:27:39,563 | INFO | models.fno.model | 🔁 Passed through Fourier layer 2/4\n",
      "2025-06-13 15:27:39,566 | INFO | models.fno.model | 🔁 Passed through Fourier layer 3/4\n",
      "2025-06-13 15:27:39,570 | INFO | models.fno.model | 🔁 Passed through Fourier layer 4/4\n",
      "2025-06-13 15:27:39,572 | INFO | models.fno.model | ✅ Forward pass completed. Output shape: torch.Size([4, 1, 60, 60, 60])\n",
      "Epoch 3:   0%|          | 1/27648 [00:01<11:45:16,  1.53s/it]2025-06-13 15:27:40,982 | INFO | models.fno.model | 🚀 FNO forward pass started. Input shape: torch.Size([4, 1, 60, 60, 60])\n",
      "2025-06-13 15:27:40,983 | INFO | models.fno.model | 🌐 Generating coordinate grid with shape: [60, 60, 60]\n",
      "2025-06-13 15:27:40,984 | INFO | models.fno.model | ✅ Coordinate grid generated.\n",
      "2025-06-13 15:27:40,985 | INFO | models.fno.model | 🔗 Added grid to input. New shape: torch.Size([4, 4, 60, 60, 60])\n",
      "2025-06-13 15:27:40,989 | INFO | models.fno.model | 🔁 Passed through Fourier layer 1/4\n",
      "2025-06-13 15:27:40,993 | INFO | models.fno.model | 🔁 Passed through Fourier layer 2/4\n",
      "2025-06-13 15:27:40,997 | INFO | models.fno.model | 🔁 Passed through Fourier layer 3/4\n",
      "2025-06-13 15:27:41,001 | INFO | models.fno.model | 🔁 Passed through Fourier layer 4/4\n",
      "2025-06-13 15:27:41,002 | INFO | models.fno.model | ✅ Forward pass completed. Output shape: torch.Size([4, 1, 60, 60, 60])\n",
      "Epoch 3:   0%|          | 2/27648 [00:02<11:17:11,  1.47s/it]2025-06-13 15:27:42,545 | INFO | models.fno.model | 🚀 FNO forward pass started. Input shape: torch.Size([4, 1, 60, 60, 60])\n",
      "2025-06-13 15:27:42,546 | INFO | models.fno.model | 🌐 Generating coordinate grid with shape: [60, 60, 60]\n",
      "2025-06-13 15:27:42,547 | INFO | models.fno.model | ✅ Coordinate grid generated.\n",
      "2025-06-13 15:27:42,548 | INFO | models.fno.model | 🔗 Added grid to input. New shape: torch.Size([4, 4, 60, 60, 60])\n",
      "2025-06-13 15:27:42,552 | INFO | models.fno.model | 🔁 Passed through Fourier layer 1/4\n",
      "2025-06-13 15:27:42,556 | INFO | models.fno.model | 🔁 Passed through Fourier layer 2/4\n",
      "2025-06-13 15:27:42,560 | INFO | models.fno.model | 🔁 Passed through Fourier layer 3/4\n",
      "2025-06-13 15:27:42,563 | INFO | models.fno.model | 🔁 Passed through Fourier layer 4/4\n",
      "2025-06-13 15:27:42,565 | INFO | models.fno.model | ✅ Forward pass completed. Output shape: torch.Size([4, 1, 60, 60, 60])\n",
      "Epoch 3:   0%|          | 3/27648 [00:04<11:37:15,  1.51s/it]2025-06-13 15:27:44,018 | INFO | models.fno.model | 🚀 FNO forward pass started. Input shape: torch.Size([4, 1, 60, 60, 60])\n",
      "2025-06-13 15:27:44,019 | INFO | models.fno.model | 🌐 Generating coordinate grid with shape: [60, 60, 60]\n",
      "2025-06-13 15:27:44,020 | INFO | models.fno.model | ✅ Coordinate grid generated.\n",
      "2025-06-13 15:27:44,021 | INFO | models.fno.model | 🔗 Added grid to input. New shape: torch.Size([4, 4, 60, 60, 60])\n",
      "2025-06-13 15:27:44,025 | INFO | models.fno.model | 🔁 Passed through Fourier layer 1/4\n",
      "2025-06-13 15:27:44,029 | INFO | models.fno.model | 🔁 Passed through Fourier layer 2/4\n",
      "2025-06-13 15:27:44,034 | INFO | models.fno.model | 🔁 Passed through Fourier layer 3/4\n",
      "2025-06-13 15:27:44,038 | INFO | models.fno.model | 🔁 Passed through Fourier layer 4/4\n",
      "2025-06-13 15:27:44,039 | INFO | models.fno.model | ✅ Forward pass completed. Output shape: torch.Size([4, 1, 60, 60, 60])\n",
      "Epoch 3:   0%|          | 4/27648 [00:05<11:29:39,  1.50s/it]2025-06-13 15:27:45,475 | INFO | models.fno.model | 🚀 FNO forward pass started. Input shape: torch.Size([4, 1, 60, 60, 60])\n",
      "2025-06-13 15:27:45,475 | INFO | models.fno.model | 🌐 Generating coordinate grid with shape: [60, 60, 60]\n",
      "2025-06-13 15:27:45,476 | INFO | models.fno.model | ✅ Coordinate grid generated.\n",
      "2025-06-13 15:27:45,477 | INFO | models.fno.model | 🔗 Added grid to input. New shape: torch.Size([4, 4, 60, 60, 60])\n",
      "2025-06-13 15:27:45,480 | INFO | models.fno.model | 🔁 Passed through Fourier layer 1/4\n",
      "2025-06-13 15:27:45,483 | INFO | models.fno.model | 🔁 Passed through Fourier layer 2/4\n",
      "2025-06-13 15:27:45,486 | INFO | models.fno.model | 🔁 Passed through Fourier layer 3/4\n",
      "2025-06-13 15:27:45,489 | INFO | models.fno.model | 🔁 Passed through Fourier layer 4/4\n",
      "2025-06-13 15:27:45,491 | INFO | models.fno.model | ✅ Forward pass completed. Output shape: torch.Size([4, 1, 60, 60, 60])\n",
      "Epoch 3:   0%|          | 5/27648 [00:07<11:23:22,  1.48s/it]2025-06-13 15:27:47,066 | INFO | models.fno.model | 🚀 FNO forward pass started. Input shape: torch.Size([4, 1, 60, 60, 60])\n",
      "2025-06-13 15:27:47,067 | INFO | models.fno.model | 🌐 Generating coordinate grid with shape: [60, 60, 60]\n",
      "2025-06-13 15:27:47,068 | INFO | models.fno.model | ✅ Coordinate grid generated.\n",
      "2025-06-13 15:27:47,069 | INFO | models.fno.model | 🔗 Added grid to input. New shape: torch.Size([4, 4, 60, 60, 60])\n",
      "2025-06-13 15:27:47,074 | INFO | models.fno.model | 🔁 Passed through Fourier layer 1/4\n",
      "2025-06-13 15:27:47,078 | INFO | models.fno.model | 🔁 Passed through Fourier layer 2/4\n",
      "2025-06-13 15:27:47,082 | INFO | models.fno.model | 🔁 Passed through Fourier layer 3/4\n",
      "2025-06-13 15:27:47,085 | INFO | models.fno.model | 🔁 Passed through Fourier layer 4/4\n",
      "2025-06-13 15:27:47,087 | INFO | models.fno.model | ✅ Forward pass completed. Output shape: torch.Size([4, 1, 60, 60, 60])\n",
      "Epoch 3:   0%|          | 6/27648 [00:09<11:40:30,  1.52s/it]2025-06-13 15:27:48,553 | INFO | models.fno.model | 🚀 FNO forward pass started. Input shape: torch.Size([4, 1, 60, 60, 60])\n",
      "2025-06-13 15:27:48,555 | INFO | models.fno.model | 🌐 Generating coordinate grid with shape: [60, 60, 60]\n",
      "2025-06-13 15:27:48,556 | INFO | models.fno.model | ✅ Coordinate grid generated.\n",
      "2025-06-13 15:27:48,557 | INFO | models.fno.model | 🔗 Added grid to input. New shape: torch.Size([4, 4, 60, 60, 60])\n",
      "2025-06-13 15:27:48,562 | INFO | models.fno.model | 🔁 Passed through Fourier layer 1/4\n",
      "2025-06-13 15:27:48,565 | INFO | models.fno.model | 🔁 Passed through Fourier layer 2/4\n",
      "2025-06-13 15:27:48,569 | INFO | models.fno.model | 🔁 Passed through Fourier layer 3/4\n",
      "2025-06-13 15:27:48,573 | INFO | models.fno.model | 🔁 Passed through Fourier layer 4/4\n",
      "2025-06-13 15:27:48,575 | INFO | models.fno.model | ✅ Forward pass completed. Output shape: torch.Size([4, 1, 60, 60, 60])\n",
      "Epoch 3:   0%|          | 7/27648 [00:10<11:37:57,  1.52s/it]2025-06-13 15:27:50,109 | INFO | models.fno.model | 🚀 FNO forward pass started. Input shape: torch.Size([4, 1, 60, 60, 60])\n",
      "2025-06-13 15:27:50,110 | INFO | models.fno.model | 🌐 Generating coordinate grid with shape: [60, 60, 60]\n",
      "2025-06-13 15:27:50,112 | INFO | models.fno.model | ✅ Coordinate grid generated.\n",
      "2025-06-13 15:27:50,113 | INFO | models.fno.model | 🔗 Added grid to input. New shape: torch.Size([4, 4, 60, 60, 60])\n",
      "2025-06-13 15:27:50,119 | INFO | models.fno.model | 🔁 Passed through Fourier layer 1/4\n",
      "2025-06-13 15:27:50,123 | INFO | models.fno.model | 🔁 Passed through Fourier layer 2/4\n",
      "2025-06-13 15:27:50,127 | INFO | models.fno.model | 🔁 Passed through Fourier layer 3/4\n",
      "2025-06-13 15:27:50,131 | INFO | models.fno.model | 🔁 Passed through Fourier layer 4/4\n",
      "2025-06-13 15:27:50,132 | INFO | models.fno.model | ✅ Forward pass completed. Output shape: torch.Size([4, 1, 60, 60, 60])\n",
      "Epoch 3:   0%|          | 8/27648 [00:12<11:40:56,  1.52s/it]2025-06-13 15:27:51,578 | INFO | models.fno.model | 🚀 FNO forward pass started. Input shape: torch.Size([4, 1, 60, 60, 60])\n",
      "2025-06-13 15:27:51,579 | INFO | models.fno.model | 🌐 Generating coordinate grid with shape: [60, 60, 60]\n",
      "2025-06-13 15:27:51,581 | INFO | models.fno.model | ✅ Coordinate grid generated.\n",
      "2025-06-13 15:27:51,582 | INFO | models.fno.model | 🔗 Added grid to input. New shape: torch.Size([4, 4, 60, 60, 60])\n",
      "2025-06-13 15:27:51,589 | INFO | models.fno.model | 🔁 Passed through Fourier layer 1/4\n",
      "2025-06-13 15:27:51,593 | INFO | models.fno.model | 🔁 Passed through Fourier layer 2/4\n",
      "2025-06-13 15:27:51,597 | INFO | models.fno.model | 🔁 Passed through Fourier layer 3/4\n",
      "2025-06-13 15:27:51,600 | INFO | models.fno.model | 🔁 Passed through Fourier layer 4/4\n",
      "2025-06-13 15:27:51,602 | INFO | models.fno.model | ✅ Forward pass completed. Output shape: torch.Size([4, 1, 60, 60, 60])\n",
      "Epoch 3:   0%|          | 9/27648 [00:13<11:33:38,  1.51s/it]2025-06-13 15:27:53,013 | INFO | models.fno.model | 🚀 FNO forward pass started. Input shape: torch.Size([4, 1, 60, 60, 60])\n",
      "2025-06-13 15:27:53,014 | INFO | models.fno.model | 🌐 Generating coordinate grid with shape: [60, 60, 60]\n",
      "2025-06-13 15:27:53,016 | INFO | models.fno.model | ✅ Coordinate grid generated.\n",
      "2025-06-13 15:27:53,017 | INFO | models.fno.model | 🔗 Added grid to input. New shape: torch.Size([4, 4, 60, 60, 60])\n",
      "2025-06-13 15:27:53,021 | INFO | models.fno.model | 🔁 Passed through Fourier layer 1/4\n",
      "2025-06-13 15:27:53,024 | INFO | models.fno.model | 🔁 Passed through Fourier layer 2/4\n",
      "2025-06-13 15:27:53,028 | INFO | models.fno.model | 🔁 Passed through Fourier layer 3/4\n",
      "2025-06-13 15:27:53,030 | INFO | models.fno.model | 🔁 Passed through Fourier layer 4/4\n",
      "2025-06-13 15:27:53,031 | INFO | models.fno.model | ✅ Forward pass completed. Output shape: torch.Size([4, 1, 60, 60, 60])\n",
      "Epoch 3:   0%|          | 10/27648 [00:15<11:47:19,  1.54s/it]"
     ]
    },
    {
     "name": "stdout",
     "output_type": "stream",
     "text": [
      "📉 Epoch 3 Loss: 0.9726 | LR: 7.94e-05\n"
     ]
    },
    {
     "name": "stderr",
     "output_type": "stream",
     "text": [
      "\n"
     ]
    }
   ],
   "source": [
    "from tqdm import tqdm\n",
    "\n",
    "model.train()\n",
    "loader = DataLoader(dataset, batch_size=4, shuffle=True)\n",
    "n_batch = 10\n",
    "\n",
    "for epoch in range(3):\n",
    "    total_loss = 0.0\n",
    "    for i, (inputs, targets) in enumerate(tqdm(loader, desc=f\"Epoch {epoch+1}\")):\n",
    "        if i >= n_batch:\n",
    "            break\n",
    "        inputs, targets = inputs.to(device), targets.to(device)\n",
    "        optimizer.zero_grad()\n",
    "        outputs = model(inputs)\n",
    "        loss = mse_loss(outputs, targets)\n",
    "        loss.backward()\n",
    "        optimizer.step()\n",
    "        total_loss += loss.item()\n",
    "    scheduler.step()\n",
    "    print(f\"📉 Epoch {epoch+1} Loss: {total_loss / n_batch:.4f} | LR: {scheduler.get_last_lr()[0]:.2e}\")\n"
   ]
  },
  {
   "cell_type": "code",
   "execution_count": 10,
   "id": "1f2a1fec-7c5b-4035-8ead-0697b70b60f3",
   "metadata": {},
   "outputs": [
    {
     "name": "stdout",
     "output_type": "stream",
     "text": [
      "✅ FNO model saved to fno_test_model.pt\n",
      "🔍 저장된 키 개수: 60\n",
      "예시 키: ['p1.weight', 'p1.bias', 'p2.weight', 'p2.bias', 'fourier_blocks.0.core_real']\n"
     ]
    }
   ],
   "source": [
    "save_path = \"fno_test_model.pt\"\n",
    "torch.save(model.state_dict(), save_path)\n",
    "print(f\"✅ FNO model saved to {save_path}\")\n",
    "\n",
    "state_dict = torch.load(save_path, map_location='cpu')\n",
    "print(f\"🔍 저장된 키 개수: {len(state_dict)}\")\n",
    "print(\"예시 키:\", list(state_dict.keys())[:5])\n"
   ]
  }
 ],
 "metadata": {
  "kernelspec": {
   "display_name": "Python (py312)",
   "language": "python",
   "name": "py312"
  },
  "language_info": {
   "codemirror_mode": {
    "name": "ipython",
    "version": 3
   },
   "file_extension": ".py",
   "mimetype": "text/x-python",
   "name": "python",
   "nbconvert_exporter": "python",
   "pygments_lexer": "ipython3",
   "version": "3.12.0"
  }
 },
 "nbformat": 4,
 "nbformat_minor": 5
}
