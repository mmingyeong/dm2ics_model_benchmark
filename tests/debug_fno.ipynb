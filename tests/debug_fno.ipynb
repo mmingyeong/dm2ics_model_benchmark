{
 "cells": [
  {
   "cell_type": "code",
   "execution_count": 1,
   "id": "051fe4bf-cb69-4dde-a560-6bd27592d048",
   "metadata": {},
   "outputs": [],
   "source": [
    "# Cell 0: 모듈 import를 위한 경로 설정\n",
    "import os, sys\n",
    "sys.path.append(os.path.abspath(\"..\"))  # shared, models 디렉토리 접근 가능하도록 경로 추가\n"
   ]
  },
  {
   "cell_type": "code",
   "execution_count": 2,
   "id": "2c33f512-7bb2-485b-92b8-942cf8edfabd",
   "metadata": {},
   "outputs": [
    {
     "name": "stdout",
     "output_type": "stream",
     "text": [
      "✅ PyTorch version: 2.6.0+cu124\n",
      "🚀 GPU available: True\n",
      "🧠 GPU name: Quadro RTX 5000\n",
      "💾 Total memory: 15.73 GiB\n",
      "📦 Reserved memory: 0.00 GiB\n",
      "📈 Allocated memory: 0.00 GiB\n",
      "🟢 Free memory in reserved: 0.00 GiB\n"
     ]
    }
   ],
   "source": [
    "# Cell 1: 환경 확인\n",
    "import torch\n",
    "\n",
    "print(f\"✅ PyTorch version: {torch.__version__}\")\n",
    "print(f\"🚀 GPU available: {torch.cuda.is_available()}\")\n",
    "\n",
    "if torch.cuda.is_available():\n",
    "    device = torch.device(\"cuda:0\")\n",
    "    print(f\"🧠 GPU name: {torch.cuda.get_device_name(0)}\")\n",
    "    \n",
    "    total_memory = torch.cuda.get_device_properties(device).total_memory / 1024**3  # GiB\n",
    "    reserved_memory = torch.cuda.memory_reserved(device) / 1024**3  # GiB\n",
    "    allocated_memory = torch.cuda.memory_allocated(device) / 1024**3  # GiB\n",
    "    free_memory = reserved_memory - allocated_memory  # GiB\n",
    "\n",
    "    print(f\"💾 Total memory: {total_memory:.2f} GiB\")\n",
    "    print(f\"📦 Reserved memory: {reserved_memory:.2f} GiB\")\n",
    "    print(f\"📈 Allocated memory: {allocated_memory:.2f} GiB\")\n",
    "    print(f\"🟢 Free memory in reserved: {free_memory:.2f} GiB\")\n"
   ]
  },
  {
   "cell_type": "code",
   "execution_count": 3,
   "id": "c2533429-64ef-4156-90bd-a80eff88e757",
   "metadata": {},
   "outputs": [
    {
     "name": "stderr",
     "output_type": "stream",
     "text": [
      "2025-06-13 21:28:40,094 | INFO | data_loader | 🔍 Initializing dataset with 12 file pairs.\n",
      "2025-06-13 21:28:40,468 | INFO | data_loader | 📦 Total samples across all files: 110592\n"
     ]
    },
    {
     "name": "stdout",
     "output_type": "stream",
     "text": [
      "✅ Sample loaded: input shape = torch.Size([2, 1, 60, 60, 60]), output shape = torch.Size([2, 1, 60, 60, 60])\n"
     ]
    }
   ],
   "source": [
    "# Cell 2: 데이터셋 로딩\n",
    "from torch.utils.data import DataLoader\n",
    "from shared.data_loader import HDF5Dataset\n",
    "import os\n",
    "\n",
    "input_dir = \"/caefs/data/IllustrisTNG/subcube/input\"\n",
    "output_dir = \"/caefs/data/IllustrisTNG/subcube/output\"\n",
    "\n",
    "input_files = sorted([os.path.join(input_dir, f) for f in os.listdir(input_dir) if f.endswith(\".h5\")])\n",
    "output_files = sorted([os.path.join(output_dir, f) for f in os.listdir(output_dir) if f.endswith(\".h5\")])\n",
    "\n",
    "dataset = HDF5Dataset(input_files, output_files)\n",
    "loader = DataLoader(dataset, batch_size=2, shuffle=True)\n",
    "\n",
    "x, y = next(iter(loader))\n",
    "print(f\"✅ Sample loaded: input shape = {x.shape}, output shape = {y.shape}\")\n"
   ]
  },
  {
   "cell_type": "code",
   "execution_count": 4,
   "id": "fb82d3e3-6a0f-48ad-8349-a3c5156be53b",
   "metadata": {},
   "outputs": [
    {
     "name": "stderr",
     "output_type": "stream",
     "text": [
      "2025-06-13 21:31:16,725 | INFO | models.fno.model | ✅ FNO model initialized successfully.\n"
     ]
    },
    {
     "name": "stdout",
     "output_type": "stream",
     "text": [
      "✅ FNO model loaded and set to training mode.\n"
     ]
    }
   ],
   "source": [
    "from models.fno.model import FNO\n",
    "import torch\n",
    "from torchinfo import summary\n",
    "\n",
    "# 디바이스 설정\n",
    "device = torch.device(\"cuda\" if torch.cuda.is_available() else \"cpu\")\n",
    "\n",
    "# FNO 모델 초기화\n",
    "model = FNO(\n",
    "    in_channels=1,\n",
    "    out_channels=1,\n",
    "    modes1=16,\n",
    "    modes2=16,\n",
    "    modes3=16,\n",
    "    width=128,\n",
    "    lifting_channels=64,\n",
    "    add_grid=True\n",
    ").to(device)\n",
    "\n",
    "model.train()\n",
    "print(\"✅ FNO model loaded and set to training mode.\")"
   ]
  },
  {
   "cell_type": "code",
   "execution_count": 5,
   "id": "1ac286a7-e717-4a49-bf87-322ec2af49df",
   "metadata": {},
   "outputs": [
    {
     "name": "stderr",
     "output_type": "stream",
     "text": [
      "2025-06-13 21:31:16,838 | INFO | models.fno.model | 🚀 FNO forward pass started. Input shape: torch.Size([2, 1, 60, 60, 60])\n",
      "2025-06-13 21:31:16,839 | INFO | models.fno.model | 🌐 Generating coordinate grid with shape: [60, 60, 60]\n",
      "2025-06-13 21:31:16,845 | INFO | models.fno.model | ✅ Coordinate grid generated.\n",
      "2025-06-13 21:31:16,854 | INFO | models.fno.model | 🔗 Added grid to input. New shape: torch.Size([2, 4, 60, 60, 60])\n",
      "2025-06-13 21:31:17,040 | INFO | models.fno.model | 🔁 Passed through Fourier layer 1/4\n",
      "2025-06-13 21:31:17,043 | INFO | models.fno.model | 🔁 Passed through Fourier layer 2/4\n",
      "2025-06-13 21:31:17,045 | INFO | models.fno.model | 🔁 Passed through Fourier layer 3/4\n",
      "2025-06-13 21:31:17,047 | INFO | models.fno.model | 🔁 Passed through Fourier layer 4/4\n",
      "2025-06-13 21:31:17,394 | INFO | models.fno.model | ✅ Forward pass completed. Output shape: torch.Size([2, 1, 60, 60, 60])\n"
     ]
    },
    {
     "data": {
      "text/plain": [
       "============================================================================================================================================\n",
       "Layer (type:depth-idx)                   Input Shape               Output Shape              Param #                   Kernel Shape\n",
       "============================================================================================================================================\n",
       "FNO                                      [2, 1, 60, 60, 60]        [2, 1, 60, 60, 60]        --                        --\n",
       "├─Linear: 1-1                            [432000, 4]               [432000, 64]              320                       --\n",
       "├─Linear: 1-2                            [432000, 64]              [432000, 128]             8,320                     --\n",
       "├─ModuleList: 1-3                        --                        --                        --                        --\n",
       "│    └─SpectralConvolution: 2-1          [2, 128, 60, 60, 60]      [2, 128, 60, 60, 60]      70,528                    --\n",
       "│    └─SpectralConvolution: 2-2          [2, 128, 60, 60, 60]      [2, 128, 60, 60, 60]      70,528                    --\n",
       "│    └─SpectralConvolution: 2-3          [2, 128, 60, 60, 60]      [2, 128, 60, 60, 60]      70,528                    --\n",
       "│    └─SpectralConvolution: 2-4          [2, 128, 60, 60, 60]      [2, 128, 60, 60, 60]      70,528                    --\n",
       "├─Linear: 1-4                            [2, 60, 60, 60, 128]      [2, 60, 60, 60, 128]      16,512                    --\n",
       "├─Linear: 1-5                            [2, 60, 60, 60, 128]      [2, 60, 60, 60, 1]        129                       --\n",
       "============================================================================================================================================\n",
       "Total params: 307,393\n",
       "Trainable params: 307,393\n",
       "Non-trainable params: 0\n",
       "Total mult-adds (Units.GIGABYTES): 3.73\n",
       "============================================================================================================================================\n",
       "Input size (MB): 1.73\n",
       "Forward/backward pass size (MB): 1109.38\n",
       "Params size (MB): 0.10\n",
       "Estimated Total Size (MB): 1111.21\n",
       "============================================================================================================================================"
      ]
     },
     "execution_count": 5,
     "metadata": {},
     "output_type": "execute_result"
    }
   ],
   "source": [
    "summary(model, input_size=(2, 1, 60, 60, 60),\n",
    "        col_names=[\"input_size\", \"output_size\", \"num_params\", \"kernel_size\"])\n"
   ]
  },
  {
   "cell_type": "code",
   "execution_count": 6,
   "id": "20205bcd-72cc-4c2f-a10b-54ec5689f392",
   "metadata": {},
   "outputs": [
    {
     "name": "stderr",
     "output_type": "stream",
     "text": [
      "2025-06-13 21:31:18,378 | INFO | models.fno.model | 🚀 FNO forward pass started. Input shape: torch.Size([32, 1, 60, 60, 60])\n",
      "2025-06-13 21:31:18,379 | INFO | models.fno.model | 🌐 Generating coordinate grid with shape: [60, 60, 60]\n",
      "2025-06-13 21:31:18,380 | INFO | models.fno.model | ✅ Coordinate grid generated.\n",
      "2025-06-13 21:31:18,380 | INFO | models.fno.model | 🔗 Added grid to input. New shape: torch.Size([32, 4, 60, 60, 60])\n",
      "2025-06-13 21:31:18,927 | INFO | models.fno.model | 🚀 FNO forward pass started. Input shape: torch.Size([16, 1, 60, 60, 60])\n",
      "2025-06-13 21:31:18,928 | INFO | models.fno.model | 🌐 Generating coordinate grid with shape: [60, 60, 60]\n",
      "2025-06-13 21:31:18,928 | INFO | models.fno.model | ✅ Coordinate grid generated.\n",
      "2025-06-13 21:31:18,929 | INFO | models.fno.model | 🔗 Added grid to input. New shape: torch.Size([16, 4, 60, 60, 60])\n"
     ]
    },
    {
     "name": "stdout",
     "output_type": "stream",
     "text": [
      "❌ Failed with batch_size=32: CUDA out of memory. Tried to allocate 6.59 GiB. GPU 0 has a total capacity of 15.73 GiB of which 4.15 GiB is free. Process 12502 has 26.06 MiB memory in use. Process 160031 has 1.39 GiB memory in use. Including non-PyTorch memory, this process has 10.16 GiB memory in use. Of the allocated memory 9.95 GiB is allocated by PyTorch, and 63.50 MiB is reserved by PyTorch but unallocated. If reserved but unallocated memory is large try setting PYTORCH_CUDA_ALLOC_CONF=expandable_segments:True to avoid fragmentation.  See documentation for Memory Management  (https://pytorch.org/docs/stable/notes/cuda.html#environment-variables)\n"
     ]
    },
    {
     "name": "stderr",
     "output_type": "stream",
     "text": [
      "2025-06-13 21:31:19,318 | INFO | models.fno.model | 🚀 FNO forward pass started. Input shape: torch.Size([8, 1, 60, 60, 60])\n",
      "2025-06-13 21:31:19,319 | INFO | models.fno.model | 🌐 Generating coordinate grid with shape: [60, 60, 60]\n",
      "2025-06-13 21:31:19,319 | INFO | models.fno.model | ✅ Coordinate grid generated.\n",
      "2025-06-13 21:31:19,320 | INFO | models.fno.model | 🔗 Added grid to input. New shape: torch.Size([8, 4, 60, 60, 60])\n",
      "2025-06-13 21:31:19,404 | INFO | models.fno.model | 🔁 Passed through Fourier layer 1/4\n",
      "2025-06-13 21:31:19,408 | INFO | models.fno.model | 🔁 Passed through Fourier layer 2/4\n",
      "2025-06-13 21:31:19,412 | INFO | models.fno.model | 🔁 Passed through Fourier layer 3/4\n",
      "2025-06-13 21:31:19,415 | INFO | models.fno.model | 🔁 Passed through Fourier layer 4/4\n",
      "2025-06-13 21:31:19,416 | INFO | models.fno.model | ✅ Forward pass completed. Output shape: torch.Size([8, 1, 60, 60, 60])\n"
     ]
    },
    {
     "name": "stdout",
     "output_type": "stream",
     "text": [
      "❌ Failed with batch_size=16: CUDA out of memory. Tried to allocate 3.30 GiB. GPU 0 has a total capacity of 15.73 GiB of which 872.50 MiB is free. Process 12502 has 26.06 MiB memory in use. Process 160031 has 1.39 GiB memory in use. Including non-PyTorch memory, this process has 13.46 GiB memory in use. Of the allocated memory 11.57 GiB is allocated by PyTorch, and 1.74 GiB is reserved by PyTorch but unallocated. If reserved but unallocated memory is large try setting PYTORCH_CUDA_ALLOC_CONF=expandable_segments:True to avoid fragmentation.  See documentation for Memory Management  (https://pytorch.org/docs/stable/notes/cuda.html#environment-variables)\n",
      "✅ Success with batch_size=8\n"
     ]
    },
    {
     "name": "stderr",
     "output_type": "stream",
     "text": [
      "2025-06-13 21:31:20,199 | INFO | models.fno.model | 🚀 FNO forward pass started. Input shape: torch.Size([4, 1, 60, 60, 60])\n",
      "2025-06-13 21:31:20,199 | INFO | models.fno.model | 🌐 Generating coordinate grid with shape: [60, 60, 60]\n",
      "2025-06-13 21:31:20,200 | INFO | models.fno.model | ✅ Coordinate grid generated.\n",
      "2025-06-13 21:31:20,200 | INFO | models.fno.model | 🔗 Added grid to input. New shape: torch.Size([4, 4, 60, 60, 60])\n",
      "2025-06-13 21:31:20,244 | INFO | models.fno.model | 🔁 Passed through Fourier layer 1/4\n",
      "2025-06-13 21:31:20,246 | INFO | models.fno.model | 🔁 Passed through Fourier layer 2/4\n",
      "2025-06-13 21:31:20,248 | INFO | models.fno.model | 🔁 Passed through Fourier layer 3/4\n",
      "2025-06-13 21:31:20,250 | INFO | models.fno.model | 🔁 Passed through Fourier layer 4/4\n",
      "2025-06-13 21:31:20,251 | INFO | models.fno.model | ✅ Forward pass completed. Output shape: torch.Size([4, 1, 60, 60, 60])\n"
     ]
    },
    {
     "name": "stdout",
     "output_type": "stream",
     "text": [
      "✅ Success with batch_size=4\n"
     ]
    },
    {
     "name": "stderr",
     "output_type": "stream",
     "text": [
      "2025-06-13 21:31:20,810 | INFO | models.fno.model | 🚀 FNO forward pass started. Input shape: torch.Size([2, 1, 60, 60, 60])\n",
      "2025-06-13 21:31:20,810 | INFO | models.fno.model | 🌐 Generating coordinate grid with shape: [60, 60, 60]\n",
      "2025-06-13 21:31:20,811 | INFO | models.fno.model | ✅ Coordinate grid generated.\n",
      "2025-06-13 21:31:20,811 | INFO | models.fno.model | 🔗 Added grid to input. New shape: torch.Size([2, 4, 60, 60, 60])\n",
      "2025-06-13 21:31:20,813 | INFO | models.fno.model | 🔁 Passed through Fourier layer 1/4\n",
      "2025-06-13 21:31:20,815 | INFO | models.fno.model | 🔁 Passed through Fourier layer 2/4\n",
      "2025-06-13 21:31:20,817 | INFO | models.fno.model | 🔁 Passed through Fourier layer 3/4\n",
      "2025-06-13 21:31:20,818 | INFO | models.fno.model | 🔁 Passed through Fourier layer 4/4\n",
      "2025-06-13 21:31:20,819 | INFO | models.fno.model | ✅ Forward pass completed. Output shape: torch.Size([2, 1, 60, 60, 60])\n"
     ]
    },
    {
     "name": "stdout",
     "output_type": "stream",
     "text": [
      "✅ Success with batch_size=2\n"
     ]
    },
    {
     "name": "stderr",
     "output_type": "stream",
     "text": [
      "2025-06-13 21:31:21,282 | INFO | models.fno.model | 🚀 FNO forward pass started. Input shape: torch.Size([1, 1, 60, 60, 60])\n",
      "2025-06-13 21:31:21,282 | INFO | models.fno.model | 🌐 Generating coordinate grid with shape: [60, 60, 60]\n",
      "2025-06-13 21:31:21,283 | INFO | models.fno.model | ✅ Coordinate grid generated.\n",
      "2025-06-13 21:31:21,283 | INFO | models.fno.model | 🔗 Added grid to input. New shape: torch.Size([1, 4, 60, 60, 60])\n",
      "2025-06-13 21:31:21,305 | INFO | models.fno.model | 🔁 Passed through Fourier layer 1/4\n",
      "2025-06-13 21:31:21,309 | INFO | models.fno.model | 🔁 Passed through Fourier layer 2/4\n",
      "2025-06-13 21:31:21,313 | INFO | models.fno.model | 🔁 Passed through Fourier layer 3/4\n",
      "2025-06-13 21:31:21,316 | INFO | models.fno.model | 🔁 Passed through Fourier layer 4/4\n",
      "2025-06-13 21:31:21,317 | INFO | models.fno.model | ✅ Forward pass completed. Output shape: torch.Size([1, 1, 60, 60, 60])\n"
     ]
    },
    {
     "name": "stdout",
     "output_type": "stream",
     "text": [
      "✅ Success with batch_size=1\n"
     ]
    }
   ],
   "source": [
    "def test_batch_size(batch_size):\n",
    "    try:\n",
    "        loader = DataLoader(dataset, batch_size=batch_size, shuffle=False)\n",
    "        model.eval()\n",
    "        with torch.no_grad():\n",
    "            for x, y in loader:\n",
    "                x, y = x.to(device), y.to(device)\n",
    "                _ = model(x)\n",
    "                print(f\"✅ Success with batch_size={batch_size}\")\n",
    "                break\n",
    "    except RuntimeError as e:\n",
    "        print(f\"❌ Failed with batch_size={batch_size}: {str(e).splitlines()[0]}\")\n",
    "\n",
    "for bs in [32, 16, 8, 4, 2, 1]:\n",
    "    test_batch_size(bs)\n"
   ]
  },
  {
   "cell_type": "code",
   "execution_count": 7,
   "id": "e2ac54ce-3ade-4ecd-9994-9cf5823959ee",
   "metadata": {},
   "outputs": [
    {
     "name": "stdout",
     "output_type": "stream",
     "text": [
      "✅ MSE Loss on sample batch: 20.9837\n"
     ]
    }
   ],
   "source": [
    "from shared.losses import mse_loss, spectral_loss\n",
    "\n",
    "loss_val = mse_loss(x.to(device), y.to(device))\n",
    "print(f\"✅ MSE Loss on sample batch: {loss_val.item():.4f}\")\n"
   ]
  },
  {
   "cell_type": "code",
   "execution_count": 8,
   "id": "bc3834fd-c938-4697-80ce-c311fc22d92c",
   "metadata": {},
   "outputs": [
    {
     "name": "stdout",
     "output_type": "stream",
     "text": [
      "✅ Optimizer and LR scheduler initialized.\n"
     ]
    }
   ],
   "source": [
    "import torch.optim as optim\n",
    "\n",
    "optimizer = optim.Adam(model.parameters(), lr=1e-4)\n",
    "scheduler = optim.lr_scheduler.CosineAnnealingLR(optimizer, T_max=10)\n",
    "print(\"✅ Optimizer and LR scheduler initialized.\")\n"
   ]
  },
  {
   "cell_type": "code",
   "execution_count": 9,
   "id": "1de346c0-7eb5-4715-9a9d-149762f80ab6",
   "metadata": {},
   "outputs": [
    {
     "name": "stderr",
     "output_type": "stream",
     "text": [
      "Epoch 1:   0%|          | 0/27648 [00:00<?, ?it/s]2025-06-13 21:31:24,533 | INFO | models.fno.model | 🚀 FNO forward pass started. Input shape: torch.Size([4, 1, 60, 60, 60])\n",
      "2025-06-13 21:31:24,535 | INFO | models.fno.model | 🌐 Generating coordinate grid with shape: [60, 60, 60]\n",
      "2025-06-13 21:31:24,536 | INFO | models.fno.model | ✅ Coordinate grid generated.\n",
      "2025-06-13 21:31:24,538 | INFO | models.fno.model | 🔗 Added grid to input. New shape: torch.Size([4, 4, 60, 60, 60])\n",
      "2025-06-13 21:31:24,543 | INFO | models.fno.model | 🔁 Passed through Fourier layer 1/4\n",
      "2025-06-13 21:31:24,547 | INFO | models.fno.model | 🔁 Passed through Fourier layer 2/4\n",
      "2025-06-13 21:31:24,552 | INFO | models.fno.model | 🔁 Passed through Fourier layer 3/4\n",
      "2025-06-13 21:31:24,556 | INFO | models.fno.model | 🔁 Passed through Fourier layer 4/4\n",
      "2025-06-13 21:31:24,558 | INFO | models.fno.model | ✅ Forward pass completed. Output shape: torch.Size([4, 1, 60, 60, 60])\n",
      "Epoch 1:   0%|          | 1/27648 [00:01<13:47:56,  1.80s/it]2025-06-13 21:31:26,583 | INFO | models.fno.model | 🚀 FNO forward pass started. Input shape: torch.Size([4, 1, 60, 60, 60])\n",
      "2025-06-13 21:31:26,585 | INFO | models.fno.model | 🌐 Generating coordinate grid with shape: [60, 60, 60]\n",
      "2025-06-13 21:31:26,586 | INFO | models.fno.model | ✅ Coordinate grid generated.\n",
      "2025-06-13 21:31:26,587 | INFO | models.fno.model | 🔗 Added grid to input. New shape: torch.Size([4, 4, 60, 60, 60])\n",
      "2025-06-13 21:31:26,591 | INFO | models.fno.model | 🔁 Passed through Fourier layer 1/4\n",
      "2025-06-13 21:31:26,595 | INFO | models.fno.model | 🔁 Passed through Fourier layer 2/4\n",
      "2025-06-13 21:31:26,598 | INFO | models.fno.model | 🔁 Passed through Fourier layer 3/4\n",
      "2025-06-13 21:31:26,603 | INFO | models.fno.model | 🔁 Passed through Fourier layer 4/4\n",
      "2025-06-13 21:31:26,605 | INFO | models.fno.model | ✅ Forward pass completed. Output shape: torch.Size([4, 1, 60, 60, 60])\n",
      "Epoch 1:   0%|          | 2/27648 [00:03<14:47:41,  1.93s/it]2025-06-13 21:31:28,365 | INFO | models.fno.model | 🚀 FNO forward pass started. Input shape: torch.Size([4, 1, 60, 60, 60])\n",
      "2025-06-13 21:31:28,367 | INFO | models.fno.model | 🌐 Generating coordinate grid with shape: [60, 60, 60]\n",
      "2025-06-13 21:31:28,368 | INFO | models.fno.model | ✅ Coordinate grid generated.\n",
      "2025-06-13 21:31:28,369 | INFO | models.fno.model | 🔗 Added grid to input. New shape: torch.Size([4, 4, 60, 60, 60])\n",
      "2025-06-13 21:31:28,375 | INFO | models.fno.model | 🔁 Passed through Fourier layer 1/4\n",
      "2025-06-13 21:31:28,380 | INFO | models.fno.model | 🔁 Passed through Fourier layer 2/4\n",
      "2025-06-13 21:31:28,384 | INFO | models.fno.model | 🔁 Passed through Fourier layer 3/4\n",
      "2025-06-13 21:31:28,389 | INFO | models.fno.model | 🔁 Passed through Fourier layer 4/4\n",
      "2025-06-13 21:31:28,391 | INFO | models.fno.model | ✅ Forward pass completed. Output shape: torch.Size([4, 1, 60, 60, 60])\n",
      "Epoch 1:   0%|          | 3/27648 [00:05<14:16:56,  1.86s/it]2025-06-13 21:31:30,234 | INFO | models.fno.model | 🚀 FNO forward pass started. Input shape: torch.Size([4, 1, 60, 60, 60])\n",
      "2025-06-13 21:31:30,239 | INFO | models.fno.model | 🌐 Generating coordinate grid with shape: [60, 60, 60]\n",
      "2025-06-13 21:31:30,240 | INFO | models.fno.model | ✅ Coordinate grid generated.\n",
      "2025-06-13 21:31:30,241 | INFO | models.fno.model | 🔗 Added grid to input. New shape: torch.Size([4, 4, 60, 60, 60])\n",
      "2025-06-13 21:31:30,244 | INFO | models.fno.model | 🔁 Passed through Fourier layer 1/4\n",
      "2025-06-13 21:31:30,249 | INFO | models.fno.model | 🔁 Passed through Fourier layer 2/4\n",
      "2025-06-13 21:31:30,254 | INFO | models.fno.model | 🔁 Passed through Fourier layer 3/4\n",
      "2025-06-13 21:31:30,260 | INFO | models.fno.model | 🔁 Passed through Fourier layer 4/4\n",
      "2025-06-13 21:31:30,262 | INFO | models.fno.model | ✅ Forward pass completed. Output shape: torch.Size([4, 1, 60, 60, 60])\n",
      "Epoch 1:   0%|          | 4/27648 [00:07<14:18:14,  1.86s/it]2025-06-13 21:31:31,830 | INFO | models.fno.model | 🚀 FNO forward pass started. Input shape: torch.Size([4, 1, 60, 60, 60])\n",
      "2025-06-13 21:31:31,831 | INFO | models.fno.model | 🌐 Generating coordinate grid with shape: [60, 60, 60]\n",
      "2025-06-13 21:31:31,832 | INFO | models.fno.model | ✅ Coordinate grid generated.\n",
      "2025-06-13 21:31:31,834 | INFO | models.fno.model | 🔗 Added grid to input. New shape: torch.Size([4, 4, 60, 60, 60])\n",
      "2025-06-13 21:31:31,839 | INFO | models.fno.model | 🔁 Passed through Fourier layer 1/4\n",
      "2025-06-13 21:31:31,844 | INFO | models.fno.model | 🔁 Passed through Fourier layer 2/4\n",
      "2025-06-13 21:31:31,849 | INFO | models.fno.model | 🔁 Passed through Fourier layer 3/4\n",
      "2025-06-13 21:31:31,853 | INFO | models.fno.model | 🔁 Passed through Fourier layer 4/4\n",
      "2025-06-13 21:31:31,855 | INFO | models.fno.model | ✅ Forward pass completed. Output shape: torch.Size([4, 1, 60, 60, 60])\n",
      "Epoch 1:   0%|          | 5/27648 [00:09<13:34:02,  1.77s/it]2025-06-13 21:31:33,707 | INFO | models.fno.model | 🚀 FNO forward pass started. Input shape: torch.Size([4, 1, 60, 60, 60])\n",
      "2025-06-13 21:31:33,708 | INFO | models.fno.model | 🌐 Generating coordinate grid with shape: [60, 60, 60]\n",
      "2025-06-13 21:31:33,709 | INFO | models.fno.model | ✅ Coordinate grid generated.\n",
      "2025-06-13 21:31:33,711 | INFO | models.fno.model | 🔗 Added grid to input. New shape: torch.Size([4, 4, 60, 60, 60])\n",
      "2025-06-13 21:31:33,717 | INFO | models.fno.model | 🔁 Passed through Fourier layer 1/4\n",
      "2025-06-13 21:31:33,722 | INFO | models.fno.model | 🔁 Passed through Fourier layer 2/4\n",
      "2025-06-13 21:31:33,727 | INFO | models.fno.model | 🔁 Passed through Fourier layer 3/4\n",
      "2025-06-13 21:31:33,732 | INFO | models.fno.model | 🔁 Passed through Fourier layer 4/4\n",
      "2025-06-13 21:31:33,734 | INFO | models.fno.model | ✅ Forward pass completed. Output shape: torch.Size([4, 1, 60, 60, 60])\n",
      "Epoch 1:   0%|          | 6/27648 [00:10<13:51:11,  1.80s/it]2025-06-13 21:31:35,540 | INFO | models.fno.model | 🚀 FNO forward pass started. Input shape: torch.Size([4, 1, 60, 60, 60])\n",
      "2025-06-13 21:31:35,541 | INFO | models.fno.model | 🌐 Generating coordinate grid with shape: [60, 60, 60]\n",
      "2025-06-13 21:31:35,543 | INFO | models.fno.model | ✅ Coordinate grid generated.\n",
      "2025-06-13 21:31:35,544 | INFO | models.fno.model | 🔗 Added grid to input. New shape: torch.Size([4, 4, 60, 60, 60])\n",
      "2025-06-13 21:31:35,550 | INFO | models.fno.model | 🔁 Passed through Fourier layer 1/4\n",
      "2025-06-13 21:31:35,555 | INFO | models.fno.model | 🔁 Passed through Fourier layer 2/4\n",
      "2025-06-13 21:31:35,560 | INFO | models.fno.model | 🔁 Passed through Fourier layer 3/4\n",
      "2025-06-13 21:31:35,565 | INFO | models.fno.model | 🔁 Passed through Fourier layer 4/4\n",
      "2025-06-13 21:31:35,567 | INFO | models.fno.model | ✅ Forward pass completed. Output shape: torch.Size([4, 1, 60, 60, 60])\n",
      "Epoch 1:   0%|          | 7/27648 [00:12<13:55:28,  1.81s/it]2025-06-13 21:31:37,213 | INFO | models.fno.model | 🚀 FNO forward pass started. Input shape: torch.Size([4, 1, 60, 60, 60])\n",
      "2025-06-13 21:31:37,214 | INFO | models.fno.model | 🌐 Generating coordinate grid with shape: [60, 60, 60]\n",
      "2025-06-13 21:31:37,216 | INFO | models.fno.model | ✅ Coordinate grid generated.\n",
      "2025-06-13 21:31:37,217 | INFO | models.fno.model | 🔗 Added grid to input. New shape: torch.Size([4, 4, 60, 60, 60])\n",
      "2025-06-13 21:31:37,223 | INFO | models.fno.model | 🔁 Passed through Fourier layer 1/4\n",
      "2025-06-13 21:31:37,228 | INFO | models.fno.model | 🔁 Passed through Fourier layer 2/4\n",
      "2025-06-13 21:31:37,233 | INFO | models.fno.model | 🔁 Passed through Fourier layer 3/4\n",
      "2025-06-13 21:31:37,239 | INFO | models.fno.model | 🔁 Passed through Fourier layer 4/4\n",
      "2025-06-13 21:31:37,240 | INFO | models.fno.model | ✅ Forward pass completed. Output shape: torch.Size([4, 1, 60, 60, 60])\n",
      "Epoch 1:   0%|          | 8/27648 [00:14<13:35:23,  1.77s/it]2025-06-13 21:31:38,812 | INFO | models.fno.model | 🚀 FNO forward pass started. Input shape: torch.Size([4, 1, 60, 60, 60])\n",
      "2025-06-13 21:31:38,813 | INFO | models.fno.model | 🌐 Generating coordinate grid with shape: [60, 60, 60]\n",
      "2025-06-13 21:31:38,814 | INFO | models.fno.model | ✅ Coordinate grid generated.\n",
      "2025-06-13 21:31:38,816 | INFO | models.fno.model | 🔗 Added grid to input. New shape: torch.Size([4, 4, 60, 60, 60])\n",
      "2025-06-13 21:31:38,821 | INFO | models.fno.model | 🔁 Passed through Fourier layer 1/4\n",
      "2025-06-13 21:31:38,827 | INFO | models.fno.model | 🔁 Passed through Fourier layer 2/4\n",
      "2025-06-13 21:31:38,831 | INFO | models.fno.model | 🔁 Passed through Fourier layer 3/4\n",
      "2025-06-13 21:31:38,836 | INFO | models.fno.model | 🔁 Passed through Fourier layer 4/4\n",
      "2025-06-13 21:31:38,838 | INFO | models.fno.model | ✅ Forward pass completed. Output shape: torch.Size([4, 1, 60, 60, 60])\n",
      "Epoch 1:   0%|          | 9/27648 [00:16<13:10:16,  1.72s/it]2025-06-13 21:31:40,520 | INFO | models.fno.model | 🚀 FNO forward pass started. Input shape: torch.Size([4, 1, 60, 60, 60])\n",
      "2025-06-13 21:31:40,521 | INFO | models.fno.model | 🌐 Generating coordinate grid with shape: [60, 60, 60]\n",
      "2025-06-13 21:31:40,523 | INFO | models.fno.model | ✅ Coordinate grid generated.\n",
      "2025-06-13 21:31:40,524 | INFO | models.fno.model | 🔗 Added grid to input. New shape: torch.Size([4, 4, 60, 60, 60])\n",
      "2025-06-13 21:31:40,530 | INFO | models.fno.model | 🔁 Passed through Fourier layer 1/4\n",
      "2025-06-13 21:31:40,535 | INFO | models.fno.model | 🔁 Passed through Fourier layer 2/4\n",
      "2025-06-13 21:31:40,540 | INFO | models.fno.model | 🔁 Passed through Fourier layer 3/4\n",
      "2025-06-13 21:31:40,545 | INFO | models.fno.model | 🔁 Passed through Fourier layer 4/4\n",
      "2025-06-13 21:31:40,547 | INFO | models.fno.model | ✅ Forward pass completed. Output shape: torch.Size([4, 1, 60, 60, 60])\n",
      "Epoch 1:   0%|          | 10/27648 [00:18<13:55:33,  1.81s/it]\n"
     ]
    },
    {
     "name": "stdout",
     "output_type": "stream",
     "text": [
      "📉 Epoch 1 Loss: 0.9153 | LR: 9.76e-05\n"
     ]
    },
    {
     "name": "stderr",
     "output_type": "stream",
     "text": [
      "Epoch 2:   0%|          | 0/27648 [00:00<?, ?it/s]2025-06-13 21:31:42,518 | INFO | models.fno.model | 🚀 FNO forward pass started. Input shape: torch.Size([4, 1, 60, 60, 60])\n",
      "2025-06-13 21:31:42,521 | INFO | models.fno.model | 🌐 Generating coordinate grid with shape: [60, 60, 60]\n",
      "2025-06-13 21:31:42,523 | INFO | models.fno.model | ✅ Coordinate grid generated.\n",
      "2025-06-13 21:31:42,525 | INFO | models.fno.model | 🔗 Added grid to input. New shape: torch.Size([4, 4, 60, 60, 60])\n",
      "2025-06-13 21:31:42,531 | INFO | models.fno.model | 🔁 Passed through Fourier layer 1/4\n",
      "2025-06-13 21:31:42,537 | INFO | models.fno.model | 🔁 Passed through Fourier layer 2/4\n",
      "2025-06-13 21:31:42,541 | INFO | models.fno.model | 🔁 Passed through Fourier layer 3/4\n",
      "2025-06-13 21:31:42,546 | INFO | models.fno.model | 🔁 Passed through Fourier layer 4/4\n",
      "2025-06-13 21:31:42,548 | INFO | models.fno.model | ✅ Forward pass completed. Output shape: torch.Size([4, 1, 60, 60, 60])\n",
      "Epoch 2:   0%|          | 1/27648 [00:01<12:20:49,  1.61s/it]2025-06-13 21:31:44,162 | INFO | models.fno.model | 🚀 FNO forward pass started. Input shape: torch.Size([4, 1, 60, 60, 60])\n",
      "2025-06-13 21:31:44,164 | INFO | models.fno.model | 🌐 Generating coordinate grid with shape: [60, 60, 60]\n",
      "2025-06-13 21:31:44,165 | INFO | models.fno.model | ✅ Coordinate grid generated.\n",
      "2025-06-13 21:31:44,166 | INFO | models.fno.model | 🔗 Added grid to input. New shape: torch.Size([4, 4, 60, 60, 60])\n",
      "2025-06-13 21:31:44,172 | INFO | models.fno.model | 🔁 Passed through Fourier layer 1/4\n",
      "2025-06-13 21:31:44,178 | INFO | models.fno.model | 🔁 Passed through Fourier layer 2/4\n",
      "2025-06-13 21:31:44,182 | INFO | models.fno.model | 🔁 Passed through Fourier layer 3/4\n",
      "2025-06-13 21:31:44,187 | INFO | models.fno.model | 🔁 Passed through Fourier layer 4/4\n",
      "2025-06-13 21:31:44,189 | INFO | models.fno.model | ✅ Forward pass completed. Output shape: torch.Size([4, 1, 60, 60, 60])\n",
      "Epoch 2:   0%|          | 2/27648 [00:03<12:34:23,  1.64s/it]2025-06-13 21:31:45,927 | INFO | models.fno.model | 🚀 FNO forward pass started. Input shape: torch.Size([4, 1, 60, 60, 60])\n",
      "2025-06-13 21:31:45,928 | INFO | models.fno.model | 🌐 Generating coordinate grid with shape: [60, 60, 60]\n",
      "2025-06-13 21:31:45,929 | INFO | models.fno.model | ✅ Coordinate grid generated.\n",
      "2025-06-13 21:31:45,931 | INFO | models.fno.model | 🔗 Added grid to input. New shape: torch.Size([4, 4, 60, 60, 60])\n",
      "2025-06-13 21:31:45,937 | INFO | models.fno.model | 🔁 Passed through Fourier layer 1/4\n",
      "2025-06-13 21:31:45,941 | INFO | models.fno.model | 🔁 Passed through Fourier layer 2/4\n",
      "2025-06-13 21:31:45,944 | INFO | models.fno.model | 🔁 Passed through Fourier layer 3/4\n",
      "2025-06-13 21:31:45,948 | INFO | models.fno.model | 🔁 Passed through Fourier layer 4/4\n",
      "2025-06-13 21:31:45,949 | INFO | models.fno.model | ✅ Forward pass completed. Output shape: torch.Size([4, 1, 60, 60, 60])\n",
      "Epoch 2:   0%|          | 3/27648 [00:05<12:57:05,  1.69s/it]2025-06-13 21:31:47,591 | INFO | models.fno.model | 🚀 FNO forward pass started. Input shape: torch.Size([4, 1, 60, 60, 60])\n",
      "2025-06-13 21:31:47,592 | INFO | models.fno.model | 🌐 Generating coordinate grid with shape: [60, 60, 60]\n",
      "2025-06-13 21:31:47,594 | INFO | models.fno.model | ✅ Coordinate grid generated.\n",
      "2025-06-13 21:31:47,595 | INFO | models.fno.model | 🔗 Added grid to input. New shape: torch.Size([4, 4, 60, 60, 60])\n",
      "2025-06-13 21:31:47,599 | INFO | models.fno.model | 🔁 Passed through Fourier layer 1/4\n",
      "2025-06-13 21:31:47,602 | INFO | models.fno.model | 🔁 Passed through Fourier layer 2/4\n",
      "2025-06-13 21:31:47,606 | INFO | models.fno.model | 🔁 Passed through Fourier layer 3/4\n",
      "2025-06-13 21:31:47,609 | INFO | models.fno.model | 🔁 Passed through Fourier layer 4/4\n",
      "2025-06-13 21:31:47,610 | INFO | models.fno.model | ✅ Forward pass completed. Output shape: torch.Size([4, 1, 60, 60, 60])\n",
      "Epoch 2:   0%|          | 4/27648 [00:06<12:53:37,  1.68s/it]2025-06-13 21:31:49,121 | INFO | models.fno.model | 🚀 FNO forward pass started. Input shape: torch.Size([4, 1, 60, 60, 60])\n",
      "2025-06-13 21:31:49,122 | INFO | models.fno.model | 🌐 Generating coordinate grid with shape: [60, 60, 60]\n",
      "2025-06-13 21:31:49,123 | INFO | models.fno.model | ✅ Coordinate grid generated.\n",
      "2025-06-13 21:31:49,124 | INFO | models.fno.model | 🔗 Added grid to input. New shape: torch.Size([4, 4, 60, 60, 60])\n",
      "2025-06-13 21:31:49,129 | INFO | models.fno.model | 🔁 Passed through Fourier layer 1/4\n",
      "2025-06-13 21:31:49,133 | INFO | models.fno.model | 🔁 Passed through Fourier layer 2/4\n",
      "2025-06-13 21:31:49,137 | INFO | models.fno.model | 🔁 Passed through Fourier layer 3/4\n",
      "2025-06-13 21:31:49,141 | INFO | models.fno.model | 🔁 Passed through Fourier layer 4/4\n",
      "2025-06-13 21:31:49,142 | INFO | models.fno.model | ✅ Forward pass completed. Output shape: torch.Size([4, 1, 60, 60, 60])\n",
      "Epoch 2:   0%|          | 5/27648 [00:08<12:28:27,  1.62s/it]2025-06-13 21:31:50,656 | INFO | models.fno.model | 🚀 FNO forward pass started. Input shape: torch.Size([4, 1, 60, 60, 60])\n",
      "2025-06-13 21:31:50,657 | INFO | models.fno.model | 🌐 Generating coordinate grid with shape: [60, 60, 60]\n",
      "2025-06-13 21:31:50,658 | INFO | models.fno.model | ✅ Coordinate grid generated.\n",
      "2025-06-13 21:31:50,659 | INFO | models.fno.model | 🔗 Added grid to input. New shape: torch.Size([4, 4, 60, 60, 60])\n",
      "2025-06-13 21:31:50,662 | INFO | models.fno.model | 🔁 Passed through Fourier layer 1/4\n",
      "2025-06-13 21:31:50,665 | INFO | models.fno.model | 🔁 Passed through Fourier layer 2/4\n",
      "2025-06-13 21:31:50,667 | INFO | models.fno.model | 🔁 Passed through Fourier layer 3/4\n",
      "2025-06-13 21:31:50,669 | INFO | models.fno.model | 🔁 Passed through Fourier layer 4/4\n",
      "2025-06-13 21:31:50,670 | INFO | models.fno.model | ✅ Forward pass completed. Output shape: torch.Size([4, 1, 60, 60, 60])\n",
      "Epoch 2:   0%|          | 6/27648 [00:09<12:14:26,  1.59s/it]2025-06-13 21:31:52,210 | INFO | models.fno.model | 🚀 FNO forward pass started. Input shape: torch.Size([4, 1, 60, 60, 60])\n",
      "2025-06-13 21:31:52,211 | INFO | models.fno.model | 🌐 Generating coordinate grid with shape: [60, 60, 60]\n",
      "2025-06-13 21:31:52,212 | INFO | models.fno.model | ✅ Coordinate grid generated.\n",
      "2025-06-13 21:31:52,213 | INFO | models.fno.model | 🔗 Added grid to input. New shape: torch.Size([4, 4, 60, 60, 60])\n",
      "2025-06-13 21:31:52,219 | INFO | models.fno.model | 🔁 Passed through Fourier layer 1/4\n",
      "2025-06-13 21:31:52,222 | INFO | models.fno.model | 🔁 Passed through Fourier layer 2/4\n",
      "2025-06-13 21:31:52,226 | INFO | models.fno.model | 🔁 Passed through Fourier layer 3/4\n",
      "2025-06-13 21:31:52,229 | INFO | models.fno.model | 🔁 Passed through Fourier layer 4/4\n",
      "2025-06-13 21:31:52,230 | INFO | models.fno.model | ✅ Forward pass completed. Output shape: torch.Size([4, 1, 60, 60, 60])\n",
      "Epoch 2:   0%|          | 7/27648 [00:11<12:08:15,  1.58s/it]2025-06-13 21:31:53,726 | INFO | models.fno.model | 🚀 FNO forward pass started. Input shape: torch.Size([4, 1, 60, 60, 60])\n",
      "2025-06-13 21:31:53,727 | INFO | models.fno.model | 🌐 Generating coordinate grid with shape: [60, 60, 60]\n",
      "2025-06-13 21:31:53,728 | INFO | models.fno.model | ✅ Coordinate grid generated.\n",
      "2025-06-13 21:31:53,730 | INFO | models.fno.model | 🔗 Added grid to input. New shape: torch.Size([4, 4, 60, 60, 60])\n",
      "2025-06-13 21:31:53,735 | INFO | models.fno.model | 🔁 Passed through Fourier layer 1/4\n",
      "2025-06-13 21:31:53,738 | INFO | models.fno.model | 🔁 Passed through Fourier layer 2/4\n",
      "2025-06-13 21:31:53,742 | INFO | models.fno.model | 🔁 Passed through Fourier layer 3/4\n",
      "2025-06-13 21:31:53,745 | INFO | models.fno.model | 🔁 Passed through Fourier layer 4/4\n",
      "2025-06-13 21:31:53,746 | INFO | models.fno.model | ✅ Forward pass completed. Output shape: torch.Size([4, 1, 60, 60, 60])\n",
      "Epoch 2:   0%|          | 8/27648 [00:12<11:58:49,  1.56s/it]2025-06-13 21:31:55,212 | INFO | models.fno.model | 🚀 FNO forward pass started. Input shape: torch.Size([4, 1, 60, 60, 60])\n",
      "2025-06-13 21:31:55,213 | INFO | models.fno.model | 🌐 Generating coordinate grid with shape: [60, 60, 60]\n",
      "2025-06-13 21:31:55,215 | INFO | models.fno.model | ✅ Coordinate grid generated.\n",
      "2025-06-13 21:31:55,216 | INFO | models.fno.model | 🔗 Added grid to input. New shape: torch.Size([4, 4, 60, 60, 60])\n",
      "2025-06-13 21:31:55,221 | INFO | models.fno.model | 🔁 Passed through Fourier layer 1/4\n",
      "2025-06-13 21:31:55,225 | INFO | models.fno.model | 🔁 Passed through Fourier layer 2/4\n",
      "2025-06-13 21:31:55,228 | INFO | models.fno.model | 🔁 Passed through Fourier layer 3/4\n",
      "2025-06-13 21:31:55,231 | INFO | models.fno.model | 🔁 Passed through Fourier layer 4/4\n",
      "2025-06-13 21:31:55,232 | INFO | models.fno.model | ✅ Forward pass completed. Output shape: torch.Size([4, 1, 60, 60, 60])\n",
      "Epoch 2:   0%|          | 9/27648 [00:14<11:47:38,  1.54s/it]2025-06-13 21:31:56,798 | INFO | models.fno.model | 🚀 FNO forward pass started. Input shape: torch.Size([4, 1, 60, 60, 60])\n",
      "2025-06-13 21:31:56,799 | INFO | models.fno.model | 🌐 Generating coordinate grid with shape: [60, 60, 60]\n",
      "2025-06-13 21:31:56,800 | INFO | models.fno.model | ✅ Coordinate grid generated.\n",
      "2025-06-13 21:31:56,802 | INFO | models.fno.model | 🔗 Added grid to input. New shape: torch.Size([4, 4, 60, 60, 60])\n",
      "2025-06-13 21:31:56,807 | INFO | models.fno.model | 🔁 Passed through Fourier layer 1/4\n",
      "2025-06-13 21:31:56,812 | INFO | models.fno.model | 🔁 Passed through Fourier layer 2/4\n",
      "2025-06-13 21:31:56,816 | INFO | models.fno.model | 🔁 Passed through Fourier layer 3/4\n",
      "2025-06-13 21:31:56,820 | INFO | models.fno.model | 🔁 Passed through Fourier layer 4/4\n",
      "2025-06-13 21:31:56,822 | INFO | models.fno.model | ✅ Forward pass completed. Output shape: torch.Size([4, 1, 60, 60, 60])\n",
      "Epoch 2:   0%|          | 10/27648 [00:16<12:35:43,  1.64s/it]\n"
     ]
    },
    {
     "name": "stdout",
     "output_type": "stream",
     "text": [
      "📉 Epoch 2 Loss: 0.8831 | LR: 9.05e-05\n"
     ]
    },
    {
     "name": "stderr",
     "output_type": "stream",
     "text": [
      "Epoch 3:   0%|          | 0/27648 [00:00<?, ?it/s]2025-06-13 21:31:58,952 | INFO | models.fno.model | 🚀 FNO forward pass started. Input shape: torch.Size([4, 1, 60, 60, 60])\n",
      "2025-06-13 21:31:58,954 | INFO | models.fno.model | 🌐 Generating coordinate grid with shape: [60, 60, 60]\n",
      "2025-06-13 21:31:58,955 | INFO | models.fno.model | ✅ Coordinate grid generated.\n",
      "2025-06-13 21:31:58,956 | INFO | models.fno.model | 🔗 Added grid to input. New shape: torch.Size([4, 4, 60, 60, 60])\n",
      "2025-06-13 21:31:58,961 | INFO | models.fno.model | 🔁 Passed through Fourier layer 1/4\n",
      "2025-06-13 21:31:58,965 | INFO | models.fno.model | 🔁 Passed through Fourier layer 2/4\n",
      "2025-06-13 21:31:58,968 | INFO | models.fno.model | 🔁 Passed through Fourier layer 3/4\n",
      "2025-06-13 21:31:58,971 | INFO | models.fno.model | 🔁 Passed through Fourier layer 4/4\n",
      "2025-06-13 21:31:58,972 | INFO | models.fno.model | ✅ Forward pass completed. Output shape: torch.Size([4, 1, 60, 60, 60])\n",
      "Epoch 3:   0%|          | 1/27648 [00:01<12:30:56,  1.63s/it]2025-06-13 21:32:00,523 | INFO | models.fno.model | 🚀 FNO forward pass started. Input shape: torch.Size([4, 1, 60, 60, 60])\n",
      "2025-06-13 21:32:00,524 | INFO | models.fno.model | 🌐 Generating coordinate grid with shape: [60, 60, 60]\n",
      "2025-06-13 21:32:00,525 | INFO | models.fno.model | ✅ Coordinate grid generated.\n",
      "2025-06-13 21:32:00,526 | INFO | models.fno.model | 🔗 Added grid to input. New shape: torch.Size([4, 4, 60, 60, 60])\n",
      "2025-06-13 21:32:00,532 | INFO | models.fno.model | 🔁 Passed through Fourier layer 1/4\n",
      "2025-06-13 21:32:00,536 | INFO | models.fno.model | 🔁 Passed through Fourier layer 2/4\n",
      "2025-06-13 21:32:00,539 | INFO | models.fno.model | 🔁 Passed through Fourier layer 3/4\n",
      "2025-06-13 21:32:00,543 | INFO | models.fno.model | 🔁 Passed through Fourier layer 4/4\n",
      "2025-06-13 21:32:00,544 | INFO | models.fno.model | ✅ Forward pass completed. Output shape: torch.Size([4, 1, 60, 60, 60])\n",
      "Epoch 3:   0%|          | 2/27648 [00:03<12:14:56,  1.60s/it]2025-06-13 21:32:02,100 | INFO | models.fno.model | 🚀 FNO forward pass started. Input shape: torch.Size([4, 1, 60, 60, 60])\n",
      "2025-06-13 21:32:02,101 | INFO | models.fno.model | 🌐 Generating coordinate grid with shape: [60, 60, 60]\n",
      "2025-06-13 21:32:02,103 | INFO | models.fno.model | ✅ Coordinate grid generated.\n",
      "2025-06-13 21:32:02,104 | INFO | models.fno.model | 🔗 Added grid to input. New shape: torch.Size([4, 4, 60, 60, 60])\n",
      "2025-06-13 21:32:02,109 | INFO | models.fno.model | 🔁 Passed through Fourier layer 1/4\n",
      "2025-06-13 21:32:02,114 | INFO | models.fno.model | 🔁 Passed through Fourier layer 2/4\n",
      "2025-06-13 21:32:02,119 | INFO | models.fno.model | 🔁 Passed through Fourier layer 3/4\n",
      "2025-06-13 21:32:02,123 | INFO | models.fno.model | 🔁 Passed through Fourier layer 4/4\n",
      "2025-06-13 21:32:02,124 | INFO | models.fno.model | ✅ Forward pass completed. Output shape: torch.Size([4, 1, 60, 60, 60])\n",
      "Epoch 3:   0%|          | 3/27648 [00:04<12:11:04,  1.59s/it]2025-06-13 21:32:03,688 | INFO | models.fno.model | 🚀 FNO forward pass started. Input shape: torch.Size([4, 1, 60, 60, 60])\n",
      "2025-06-13 21:32:03,691 | INFO | models.fno.model | 🌐 Generating coordinate grid with shape: [60, 60, 60]\n",
      "2025-06-13 21:32:03,693 | INFO | models.fno.model | ✅ Coordinate grid generated.\n",
      "2025-06-13 21:32:03,694 | INFO | models.fno.model | 🔗 Added grid to input. New shape: torch.Size([4, 4, 60, 60, 60])\n",
      "2025-06-13 21:32:03,701 | INFO | models.fno.model | 🔁 Passed through Fourier layer 1/4\n",
      "2025-06-13 21:32:03,706 | INFO | models.fno.model | 🔁 Passed through Fourier layer 2/4\n",
      "2025-06-13 21:32:03,711 | INFO | models.fno.model | 🔁 Passed through Fourier layer 3/4\n",
      "2025-06-13 21:32:03,716 | INFO | models.fno.model | 🔁 Passed through Fourier layer 4/4\n",
      "2025-06-13 21:32:03,717 | INFO | models.fno.model | ✅ Forward pass completed. Output shape: torch.Size([4, 1, 60, 60, 60])\n",
      "Epoch 3:   0%|          | 4/27648 [00:06<12:11:41,  1.59s/it]2025-06-13 21:32:05,410 | INFO | models.fno.model | 🚀 FNO forward pass started. Input shape: torch.Size([4, 1, 60, 60, 60])\n",
      "2025-06-13 21:32:05,411 | INFO | models.fno.model | 🌐 Generating coordinate grid with shape: [60, 60, 60]\n",
      "2025-06-13 21:32:05,412 | INFO | models.fno.model | ✅ Coordinate grid generated.\n",
      "2025-06-13 21:32:05,413 | INFO | models.fno.model | 🔗 Added grid to input. New shape: torch.Size([4, 4, 60, 60, 60])\n",
      "2025-06-13 21:32:05,418 | INFO | models.fno.model | 🔁 Passed through Fourier layer 1/4\n",
      "2025-06-13 21:32:05,421 | INFO | models.fno.model | 🔁 Passed through Fourier layer 2/4\n",
      "2025-06-13 21:32:05,425 | INFO | models.fno.model | 🔁 Passed through Fourier layer 3/4\n",
      "2025-06-13 21:32:05,428 | INFO | models.fno.model | 🔁 Passed through Fourier layer 4/4\n",
      "2025-06-13 21:32:05,429 | INFO | models.fno.model | ✅ Forward pass completed. Output shape: torch.Size([4, 1, 60, 60, 60])\n",
      "Epoch 3:   0%|          | 5/27648 [00:08<12:33:28,  1.64s/it]2025-06-13 21:32:07,049 | INFO | models.fno.model | 🚀 FNO forward pass started. Input shape: torch.Size([4, 1, 60, 60, 60])\n",
      "2025-06-13 21:32:07,050 | INFO | models.fno.model | 🌐 Generating coordinate grid with shape: [60, 60, 60]\n",
      "2025-06-13 21:32:07,051 | INFO | models.fno.model | ✅ Coordinate grid generated.\n",
      "2025-06-13 21:32:07,052 | INFO | models.fno.model | 🔗 Added grid to input. New shape: torch.Size([4, 4, 60, 60, 60])\n",
      "2025-06-13 21:32:07,058 | INFO | models.fno.model | 🔁 Passed through Fourier layer 1/4\n",
      "2025-06-13 21:32:07,061 | INFO | models.fno.model | 🔁 Passed through Fourier layer 2/4\n",
      "2025-06-13 21:32:07,065 | INFO | models.fno.model | 🔁 Passed through Fourier layer 3/4\n",
      "2025-06-13 21:32:07,068 | INFO | models.fno.model | 🔁 Passed through Fourier layer 4/4\n",
      "2025-06-13 21:32:07,069 | INFO | models.fno.model | ✅ Forward pass completed. Output shape: torch.Size([4, 1, 60, 60, 60])\n",
      "Epoch 3:   0%|          | 6/27648 [00:09<12:33:28,  1.64s/it]2025-06-13 21:32:08,553 | INFO | models.fno.model | 🚀 FNO forward pass started. Input shape: torch.Size([4, 1, 60, 60, 60])\n",
      "2025-06-13 21:32:08,554 | INFO | models.fno.model | 🌐 Generating coordinate grid with shape: [60, 60, 60]\n",
      "2025-06-13 21:32:08,555 | INFO | models.fno.model | ✅ Coordinate grid generated.\n",
      "2025-06-13 21:32:08,556 | INFO | models.fno.model | 🔗 Added grid to input. New shape: torch.Size([4, 4, 60, 60, 60])\n",
      "2025-06-13 21:32:08,560 | INFO | models.fno.model | 🔁 Passed through Fourier layer 1/4\n",
      "2025-06-13 21:32:08,564 | INFO | models.fno.model | 🔁 Passed through Fourier layer 2/4\n",
      "2025-06-13 21:32:08,567 | INFO | models.fno.model | 🔁 Passed through Fourier layer 3/4\n",
      "2025-06-13 21:32:08,571 | INFO | models.fno.model | 🔁 Passed through Fourier layer 4/4\n",
      "2025-06-13 21:32:08,572 | INFO | models.fno.model | ✅ Forward pass completed. Output shape: torch.Size([4, 1, 60, 60, 60])\n",
      "Epoch 3:   0%|          | 7/27648 [00:11<12:16:39,  1.60s/it]2025-06-13 21:32:10,156 | INFO | models.fno.model | 🚀 FNO forward pass started. Input shape: torch.Size([4, 1, 60, 60, 60])\n",
      "2025-06-13 21:32:10,158 | INFO | models.fno.model | 🌐 Generating coordinate grid with shape: [60, 60, 60]\n",
      "2025-06-13 21:32:10,159 | INFO | models.fno.model | ✅ Coordinate grid generated.\n",
      "2025-06-13 21:32:10,160 | INFO | models.fno.model | 🔗 Added grid to input. New shape: torch.Size([4, 4, 60, 60, 60])\n",
      "2025-06-13 21:32:10,165 | INFO | models.fno.model | 🔁 Passed through Fourier layer 1/4\n",
      "2025-06-13 21:32:10,169 | INFO | models.fno.model | 🔁 Passed through Fourier layer 2/4\n",
      "2025-06-13 21:32:10,172 | INFO | models.fno.model | 🔁 Passed through Fourier layer 3/4\n",
      "2025-06-13 21:32:10,175 | INFO | models.fno.model | 🔁 Passed through Fourier layer 4/4\n",
      "2025-06-13 21:32:10,176 | INFO | models.fno.model | ✅ Forward pass completed. Output shape: torch.Size([4, 1, 60, 60, 60])\n",
      "Epoch 3:   0%|          | 8/27648 [00:12<12:14:40,  1.59s/it]2025-06-13 21:32:11,806 | INFO | models.fno.model | 🚀 FNO forward pass started. Input shape: torch.Size([4, 1, 60, 60, 60])\n",
      "2025-06-13 21:32:11,808 | INFO | models.fno.model | 🌐 Generating coordinate grid with shape: [60, 60, 60]\n",
      "2025-06-13 21:32:11,809 | INFO | models.fno.model | ✅ Coordinate grid generated.\n",
      "2025-06-13 21:32:11,810 | INFO | models.fno.model | 🔗 Added grid to input. New shape: torch.Size([4, 4, 60, 60, 60])\n",
      "2025-06-13 21:32:11,814 | INFO | models.fno.model | 🔁 Passed through Fourier layer 1/4\n",
      "2025-06-13 21:32:11,818 | INFO | models.fno.model | 🔁 Passed through Fourier layer 2/4\n",
      "2025-06-13 21:32:11,821 | INFO | models.fno.model | 🔁 Passed through Fourier layer 3/4\n",
      "2025-06-13 21:32:11,824 | INFO | models.fno.model | 🔁 Passed through Fourier layer 4/4\n",
      "2025-06-13 21:32:11,825 | INFO | models.fno.model | ✅ Forward pass completed. Output shape: torch.Size([4, 1, 60, 60, 60])\n",
      "Epoch 3:   0%|          | 9/27648 [00:14<12:22:18,  1.61s/it]2025-06-13 21:32:13,411 | INFO | models.fno.model | 🚀 FNO forward pass started. Input shape: torch.Size([4, 1, 60, 60, 60])\n",
      "2025-06-13 21:32:13,412 | INFO | models.fno.model | 🌐 Generating coordinate grid with shape: [60, 60, 60]\n",
      "2025-06-13 21:32:13,413 | INFO | models.fno.model | ✅ Coordinate grid generated.\n",
      "2025-06-13 21:32:13,414 | INFO | models.fno.model | 🔗 Added grid to input. New shape: torch.Size([4, 4, 60, 60, 60])\n",
      "2025-06-13 21:32:13,419 | INFO | models.fno.model | 🔁 Passed through Fourier layer 1/4\n",
      "2025-06-13 21:32:13,424 | INFO | models.fno.model | 🔁 Passed through Fourier layer 2/4\n",
      "2025-06-13 21:32:13,428 | INFO | models.fno.model | 🔁 Passed through Fourier layer 3/4\n",
      "2025-06-13 21:32:13,432 | INFO | models.fno.model | 🔁 Passed through Fourier layer 4/4\n",
      "2025-06-13 21:32:13,434 | INFO | models.fno.model | ✅ Forward pass completed. Output shape: torch.Size([4, 1, 60, 60, 60])\n",
      "Epoch 3:   0%|          | 10/27648 [00:16<12:39:00,  1.65s/it]"
     ]
    },
    {
     "name": "stdout",
     "output_type": "stream",
     "text": [
      "📉 Epoch 3 Loss: 0.8500 | LR: 7.94e-05\n"
     ]
    },
    {
     "name": "stderr",
     "output_type": "stream",
     "text": [
      "\n"
     ]
    }
   ],
   "source": [
    "from tqdm import tqdm\n",
    "\n",
    "model.train()\n",
    "loader = DataLoader(dataset, batch_size=4, shuffle=True)\n",
    "n_batch = 10\n",
    "\n",
    "for epoch in range(3):\n",
    "    total_loss = 0.0\n",
    "    for i, (inputs, targets) in enumerate(tqdm(loader, desc=f\"Epoch {epoch+1}\")):\n",
    "        if i >= n_batch:\n",
    "            break\n",
    "        inputs, targets = inputs.to(device), targets.to(device)\n",
    "        optimizer.zero_grad()\n",
    "        outputs = model(inputs)\n",
    "        loss = mse_loss(outputs, targets)\n",
    "        loss.backward()\n",
    "        optimizer.step()\n",
    "        total_loss += loss.item()\n",
    "    scheduler.step()\n",
    "    print(f\"📉 Epoch {epoch+1} Loss: {total_loss / n_batch:.4f} | LR: {scheduler.get_last_lr()[0]:.2e}\")\n"
   ]
  },
  {
   "cell_type": "code",
   "execution_count": 11,
   "id": "39f34bd0-297a-47bb-99f5-746fbd733181",
   "metadata": {},
   "outputs": [
    {
     "name": "stderr",
     "output_type": "stream",
     "text": [
      "Using default `ModelCheckpoint`. Consider installing `litmodels` package to enable `LitModelCheckpoint` for automatic upload to the Lightning model registry.\n",
      "You have turned on `Trainer(detect_anomaly=True)`. This will significantly slow down compute speed and is recommended only for model debugging.\n",
      "GPU available: True (cuda), used: True\n",
      "TPU available: False, using: 0 TPU cores\n",
      "HPU available: False, using: 0 HPUs\n"
     ]
    }
   ],
   "source": [
    "# Cell 4: Trainer 설정 (디버깅용)\n",
    "from pytorch_lightning import Trainer\n",
    "from pytorch_lightning.callbacks import EarlyStopping\n",
    "from pytorch_lightning.loggers import CSVLogger\n",
    "\n",
    "trainer = Trainer(\n",
    "    max_epochs=2,\n",
    "    accelerator=\"gpu\" if torch.cuda.is_available() else \"cpu\",\n",
    "    log_every_n_steps=1,\n",
    "    enable_progress_bar=True,\n",
    "    detect_anomaly=True,\n",
    "    logger=CSVLogger(\"logs/debug_fno\", name=\"fno_test\"),\n",
    "    callbacks=[\n",
    "        EarlyStopping(monitor=\"val_loss\", patience=2, mode=\"min\", verbose=True)\n",
    "    ]\n",
    ")"
   ]
  },
  {
   "cell_type": "code",
   "execution_count": 12,
   "id": "1f2a1fec-7c5b-4035-8ead-0697b70b60f3",
   "metadata": {},
   "outputs": [
    {
     "name": "stdout",
     "output_type": "stream",
     "text": [
      "✅ FNO model saved to fno_test_model.pt\n",
      "🔍 저장된 키 개수: 60\n",
      "예시 키: ['p1.weight', 'p1.bias', 'p2.weight', 'p2.bias', 'fourier_blocks.0.core_real']\n"
     ]
    }
   ],
   "source": [
    "save_path = \"fno_test_model.pt\"\n",
    "torch.save(model.state_dict(), save_path)\n",
    "print(f\"✅ FNO model saved to {save_path}\")\n",
    "\n",
    "state_dict = torch.load(save_path, map_location='cpu')\n",
    "print(f\"🔍 저장된 키 개수: {len(state_dict)}\")\n",
    "print(\"예시 키:\", list(state_dict.keys())[:5])\n"
   ]
  },
  {
   "cell_type": "code",
   "execution_count": null,
   "id": "5a209466-38d9-4d97-aef8-019b6cbb0d02",
   "metadata": {},
   "outputs": [],
   "source": []
  }
 ],
 "metadata": {
  "kernelspec": {
   "display_name": "Python (py312)",
   "language": "python",
   "name": "py312"
  },
  "language_info": {
   "codemirror_mode": {
    "name": "ipython",
    "version": 3
   },
   "file_extension": ".py",
   "mimetype": "text/x-python",
   "name": "python",
   "nbconvert_exporter": "python",
   "pygments_lexer": "ipython3",
   "version": "3.12.0"
  }
 },
 "nbformat": 4,
 "nbformat_minor": 5
}
