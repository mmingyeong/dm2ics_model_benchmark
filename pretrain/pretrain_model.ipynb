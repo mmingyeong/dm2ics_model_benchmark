{
 "cells": [
  {
   "cell_type": "markdown",
   "id": "3743faa1-9d9c-4399-b29d-ddd2b6dd52cd",
   "metadata": {},
   "source": [
    "## ✅ Pretrain Sanity-Check Checklist (Before Full Training)\n",
    "\n",
    "| 단계 | 항목                                                                 | 확인 여부 |\n",
    "|------|----------------------------------------------------------------------|-----------|\n",
    "| 1️⃣   | 입력/출력 tensor shape이 기대한 대로 맞는지 확인                           | ⬜️        |\n",
    "| 2️⃣   | 모델 forward pass 동작 확인 및 출력값에 NaN/Inf 없는지 확인              | ⬜️        |\n",
    "| 3️⃣   | loss 계산 가능하고 값이 유한함 (e.g., MSE, GAN loss 등)                | ⬜️        |\n",
    "| 4️⃣   | backward 수행되고 gradient가 모두 0이 아님                               | ⬜️        |\n",
    "| 5️⃣   | 몇 step만 돌렸을 때 loss가 유의미하게 감소하는지 확인                    | ⬜️        |\n",
    "| 6️⃣   | 예측 결과 시각화가 가능한지, projection/slice 결과가 이상 없는지 확인    | ⬜️        |\n"
   ]
  },
  {
   "cell_type": "markdown",
   "id": "02aefbea-e603-408b-ba93-b90ac96fd35f",
   "metadata": {},
   "source": [
    "🎯 목적: 왜 pretrain sanity check를 하는가?\n",
    "\n",
    "코드와 모델이 논리적으로 정상 작동하는지 조기 확인하기 위해\n",
    "→ 수십~수백 epoch의 full training 전에 기본 오류를 방지하고 디버깅 시간을 절약합니다.\n",
    "\n",
    "입력/출력의 크기, 데이터 흐름, loss/gradient 등 모든 계산 흐름이 정상적인지 검증하기 위해\n",
    "→ 특히 복잡한 모델 구조나 커스텀 손실 함수, multi-output 모델에서 유용합니다.\n",
    "\n",
    "불안정한 학습 원인을 미리 탐지하기 위해\n",
    "→ 예: NaN, gradient explosion, 학습되지 않는 네트워크, mode collapse(GAN), 등"
   ]
  },
  {
   "cell_type": "code",
   "execution_count": null,
   "id": "71432910-e1f0-4dad-9dab-2bd088b5986e",
   "metadata": {},
   "outputs": [],
   "source": []
  }
 ],
 "metadata": {
  "kernelspec": {
   "display_name": "Python (py312)",
   "language": "python",
   "name": "py312"
  },
  "language_info": {
   "codemirror_mode": {
    "name": "ipython",
    "version": 3
   },
   "file_extension": ".py",
   "mimetype": "text/x-python",
   "name": "python",
   "nbconvert_exporter": "python",
   "pygments_lexer": "ipython3",
   "version": "3.12.0"
  }
 },
 "nbformat": 4,
 "nbformat_minor": 5
}
