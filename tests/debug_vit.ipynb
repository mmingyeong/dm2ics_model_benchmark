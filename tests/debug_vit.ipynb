{
 "cells": [
  {
   "cell_type": "code",
   "execution_count": 1,
   "id": "9a64f4e0-c5c6-4887-a7d8-95aa685b8961",
   "metadata": {},
   "outputs": [],
   "source": [
    "# Cell 0: 모듈 import를 위한 경로 설정\n",
    "import os, sys\n",
    "sys.path.append(os.path.abspath(\"..\"))  # shared, models 디렉토리 접근 가능하도록 경로 추가\n"
   ]
  },
  {
   "cell_type": "code",
   "execution_count": 2,
   "id": "65f6f806-1698-4d95-8def-84c6326ebb94",
   "metadata": {},
   "outputs": [
    {
     "name": "stdout",
     "output_type": "stream",
     "text": [
      "✅ PyTorch version: 2.6.0+cu124\n",
      "🚀 GPU available: True\n",
      "🧠 GPU name: Quadro RTX 5000\n",
      "💾 Total memory: 15.73 GiB\n",
      "📦 Reserved memory: 0.00 GiB\n",
      "📈 Allocated memory: 0.00 GiB\n",
      "🟢 Free memory in reserved: 0.00 GiB\n"
     ]
    }
   ],
   "source": [
    "# Cell 1: 환경 확인\n",
    "import torch\n",
    "\n",
    "print(f\"✅ PyTorch version: {torch.__version__}\")\n",
    "print(f\"🚀 GPU available: {torch.cuda.is_available()}\")\n",
    "\n",
    "if torch.cuda.is_available():\n",
    "    device = torch.device(\"cuda:0\")\n",
    "    print(f\"🧠 GPU name: {torch.cuda.get_device_name(0)}\")\n",
    "    \n",
    "    total_memory = torch.cuda.get_device_properties(device).total_memory / 1024**3  # GiB\n",
    "    reserved_memory = torch.cuda.memory_reserved(device) / 1024**3  # GiB\n",
    "    allocated_memory = torch.cuda.memory_allocated(device) / 1024**3  # GiB\n",
    "    free_memory = reserved_memory - allocated_memory  # GiB\n",
    "\n",
    "    print(f\"💾 Total memory: {total_memory:.2f} GiB\")\n",
    "    print(f\"📦 Reserved memory: {reserved_memory:.2f} GiB\")\n",
    "    print(f\"📈 Allocated memory: {allocated_memory:.2f} GiB\")\n",
    "    print(f\"🟢 Free memory in reserved: {free_memory:.2f} GiB\")\n"
   ]
  },
  {
   "cell_type": "code",
   "execution_count": 3,
   "id": "1428cc1d-6b21-4463-b567-e099da347882",
   "metadata": {},
   "outputs": [
    {
     "name": "stderr",
     "output_type": "stream",
     "text": [
      "2025-07-30 20:41:42,508 | INFO | data_loader | 🔍 Initializing dataset with 12 file pairs.\n",
      "2025-07-30 20:41:42,529 | INFO | data_loader | 📦 Total samples across all files: 110592\n"
     ]
    },
    {
     "name": "stdout",
     "output_type": "stream",
     "text": [
      "✅ Sample loaded: input shape = torch.Size([2, 1, 60, 60, 60]), output shape = torch.Size([2, 1, 60, 60, 60])\n"
     ]
    }
   ],
   "source": [
    "# Cell 2: 데이터셋 로딩\n",
    "from torch.utils.data import DataLoader\n",
    "from shared.data_loader import HDF5Dataset\n",
    "import os\n",
    "\n",
    "input_dir = \"/caefs/data/IllustrisTNG/subcube/input\"\n",
    "output_dir = \"/caefs/data/IllustrisTNG/subcube/output\"\n",
    "\n",
    "input_files = sorted([os.path.join(input_dir, f) for f in os.listdir(input_dir) if f.endswith(\".h5\")])\n",
    "output_files = sorted([os.path.join(output_dir, f) for f in os.listdir(output_dir) if f.endswith(\".h5\")])\n",
    "\n",
    "dataset = HDF5Dataset(input_files, output_files)\n",
    "loader = DataLoader(dataset, batch_size=2, shuffle=True)\n",
    "\n",
    "x, y = next(iter(loader))\n",
    "print(f\"✅ Sample loaded: input shape = {x.shape}, output shape = {y.shape}\")\n"
   ]
  },
  {
   "cell_type": "code",
   "execution_count": 4,
   "id": "b2d75437-8716-4146-990e-1165e525165b",
   "metadata": {},
   "outputs": [
    {
     "name": "stdout",
     "output_type": "stream",
     "text": [
      "✅ ViT model (full) loaded and set to training mode.\n",
      "📐 Dummy input: torch.Size([2, 1, 60, 60, 60]) → Prediction shape: torch.Size([2, 1, 60, 60, 60])\n"
     ]
    }
   ],
   "source": [
    "# Cell 3: ViT 초기화 for scalar regression from full 3D volume\n",
    "from models.vit.model import ViT3D\n",
    "import torch\n",
    "\n",
    "# 입력 크기와 동일하게 설정\n",
    "input_shape = (60, 60, 60)  # (D, H, W)\n",
    "patch_spatial = 10         # → 60 / 10 = 6 패치\n",
    "patch_depth = 10           # → 60 / 10 = 6 패치\n",
    "\n",
    "# 디바이스 설정\n",
    "device = torch.device(\"cuda\" if torch.cuda.is_available() else \"cpu\")\n",
    "\n",
    "# 모델 선택: \"full\" or \"simple\"\n",
    "model_name = \"full\"\n",
    "\n",
    "\n",
    "model = ViT3D(\n",
    "    image_size=input_shape[1],\n",
    "    frames=input_shape[0],\n",
    "    image_patch_size=patch_spatial,\n",
    "    frame_patch_size=patch_depth,\n",
    "    dim=256,\n",
    "    depth=6,\n",
    "    heads=8,\n",
    "    mlp_dim=512,\n",
    "    in_channels=1,\n",
    "    out_channels=1\n",
    ").to(device)\n",
    "\n",
    "model.train()\n",
    "\n",
    "# Dummy input 확인\n",
    "x_dummy = torch.randn(2, 1, *input_shape).to(device)  # [B, C, D, H, W]\n",
    "y_dummy = model(x_dummy)\n",
    "\n",
    "print(f\"✅ ViT model ({model_name}) loaded and set to training mode.\")\n",
    "print(f\"📐 Dummy input: {x_dummy.shape} → Prediction shape: {y_dummy.shape}\")\n"
   ]
  },
  {
   "cell_type": "code",
   "execution_count": 5,
   "id": "2b1702f7-2138-40d1-9014-daf9210585b9",
   "metadata": {},
   "outputs": [
    {
     "data": {
      "text/plain": [
       "======================================================================================================================================================\n",
       "Layer (type:depth-idx)                             Input Shape               Output Shape              Param #                   Kernel Shape\n",
       "======================================================================================================================================================\n",
       "ViT3D                                              [2, 1, 60, 60, 60]        [2, 1, 60, 60, 60]        55,296                    --\n",
       "├─Sequential: 1-1                                  [2, 1, 60, 60, 60]        [2, 216, 256]             --                        --\n",
       "│    └─Rearrange: 2-1                              [2, 1, 60, 60, 60]        [2, 216, 1000]            --                        --\n",
       "│    └─LayerNorm: 2-2                              [2, 216, 1000]            [2, 216, 1000]            2,000                     --\n",
       "│    └─Linear: 2-3                                 [2, 216, 1000]            [2, 216, 256]             256,256                   --\n",
       "│    └─LayerNorm: 2-4                              [2, 216, 256]             [2, 216, 256]             512                       --\n",
       "├─Dropout: 1-2                                     [2, 216, 256]             [2, 216, 256]             --                        --\n",
       "├─Transformer: 1-3                                 [2, 216, 256]             [2, 216, 256]             --                        --\n",
       "│    └─ModuleList: 2-5                             --                        --                        --                        --\n",
       "│    │    └─ModuleList: 3-1                        --                        --                        788,480                   --\n",
       "│    │    └─ModuleList: 3-2                        --                        --                        788,480                   --\n",
       "│    │    └─ModuleList: 3-3                        --                        --                        788,480                   --\n",
       "│    │    └─ModuleList: 3-4                        --                        --                        788,480                   --\n",
       "│    │    └─ModuleList: 3-5                        --                        --                        788,480                   --\n",
       "│    │    └─ModuleList: 3-6                        --                        --                        788,480                   --\n",
       "├─Sequential: 1-4                                  [2, 216, 256]             [2, 216, 1000]            --                        --\n",
       "│    └─LayerNorm: 2-6                              [2, 216, 256]             [2, 216, 256]             512                       --\n",
       "│    └─Linear: 2-7                                 [2, 216, 256]             [2, 216, 1000]            257,000                   --\n",
       "======================================================================================================================================================\n",
       "Total params: 5,302,456\n",
       "Trainable params: 5,302,456\n",
       "Non-trainable params: 0\n",
       "Total mult-adds (Units.MEGABYTES): 10.49\n",
       "======================================================================================================================================================\n",
       "Input size (MB): 1.73\n",
       "Forward/backward pass size (MB): 73.27\n",
       "Params size (MB): 20.99\n",
       "Estimated Total Size (MB): 95.98\n",
       "======================================================================================================================================================"
      ]
     },
     "execution_count": 5,
     "metadata": {},
     "output_type": "execute_result"
    }
   ],
   "source": [
    "from torchinfo import summary\n",
    "\n",
    "summary(model, input_size=(2, 1, 60, 60, 60), col_names=[\"input_size\", \"output_size\", \"num_params\", \"kernel_size\"])"
   ]
  },
  {
   "cell_type": "code",
   "execution_count": 6,
   "id": "79b55eac-40dd-4763-bc3c-ba18605f9b90",
   "metadata": {},
   "outputs": [
    {
     "name": "stdout",
     "output_type": "stream",
     "text": [
      "✅ Success with batch_size=32, pred.shape=torch.Size([32, 1, 60, 60, 60])\n",
      "✅ Success with batch_size=16, pred.shape=torch.Size([16, 1, 60, 60, 60])\n",
      "✅ Success with batch_size=8, pred.shape=torch.Size([8, 1, 60, 60, 60])\n",
      "✅ Success with batch_size=4, pred.shape=torch.Size([4, 1, 60, 60, 60])\n",
      "✅ Success with batch_size=2, pred.shape=torch.Size([2, 1, 60, 60, 60])\n",
      "✅ Success with batch_size=1, pred.shape=torch.Size([1, 1, 60, 60, 60])\n"
     ]
    }
   ],
   "source": [
    "from models.vit.model import ViT3D\n",
    "from torch.utils.data import DataLoader\n",
    "\n",
    "def test_batch_size(batch_size):\n",
    "    try:\n",
    "        loader = DataLoader(dataset, batch_size=batch_size, shuffle=False)\n",
    "\n",
    "        # ⚠️ ViT3D의 patch 크기 → 10이면 60 % 10 == 0\n",
    "        model = ViT3D(\n",
    "            image_size=60,           # H/W\n",
    "            frames=60,               # D\n",
    "            image_patch_size=10,\n",
    "            frame_patch_size=10,\n",
    "            dim=256,\n",
    "            depth=6,\n",
    "            heads=8,\n",
    "            mlp_dim=512,\n",
    "            in_channels=1,\n",
    "            out_channels=1\n",
    "        ).cuda()\n",
    "\n",
    "        for x, y in loader:\n",
    "            x, y = x.cuda(), y.cuda()\n",
    "            pred = model(x)\n",
    "            print(f\"✅ Success with batch_size={batch_size}, pred.shape={pred.shape}\")\n",
    "            break\n",
    "    except RuntimeError as e:\n",
    "        print(f\"❌ Failed with batch_size={batch_size}: {str(e).splitlines()[0]}\")\n",
    "\n",
    "for bs in [32, 16, 8, 4, 2, 1]:\n",
    "    test_batch_size(bs)\n"
   ]
  },
  {
   "cell_type": "code",
   "execution_count": 7,
   "id": "d7e39385-05d1-41b1-923d-fc1f089dcfb8",
   "metadata": {},
   "outputs": [
    {
     "name": "stdout",
     "output_type": "stream",
     "text": [
      "✅ MSE Loss on batch: 89.6607\n"
     ]
    }
   ],
   "source": [
    "# Cell 4: 손실 함수 테스트\n",
    "from shared.losses import mse_loss\n",
    "\n",
    "loss_val = mse_loss(x.to(device), y.to(device))\n",
    "print(f\"✅ MSE Loss on batch: {loss_val.item():.4f}\")\n"
   ]
  },
  {
   "cell_type": "code",
   "execution_count": 8,
   "id": "b3120991-5adc-4bed-b834-f6dfa622a2c9",
   "metadata": {},
   "outputs": [
    {
     "name": "stdout",
     "output_type": "stream",
     "text": [
      "✅ Optimizer and LR scheduler initialized.\n"
     ]
    }
   ],
   "source": [
    "# Cell 5: Optimizer 및 스케줄러 설정\n",
    "import torch.optim as optim\n",
    "\n",
    "optimizer = optim.Adam(model.parameters(), lr=1e-4)\n",
    "scheduler = optim.lr_scheduler.CosineAnnealingLR(optimizer, T_max=10)\n",
    "print(\"✅ Optimizer and LR scheduler initialized.\")\n"
   ]
  },
  {
   "cell_type": "code",
   "execution_count": 10,
   "id": "eb1e522e-7997-40dd-af89-a4f8898e0869",
   "metadata": {},
   "outputs": [
    {
     "name": "stderr",
     "output_type": "stream",
     "text": [
      "Epoch 1:   0%|          | 10/55296 [00:02<3:47:16,  4.05it/s]\n"
     ]
    },
    {
     "name": "stdout",
     "output_type": "stream",
     "text": [
      "📉 Epoch 1 (partial) Loss: 1.1810 | LR: 9.76e-05\n"
     ]
    },
    {
     "name": "stderr",
     "output_type": "stream",
     "text": [
      "Epoch 2:   0%|          | 10/55296 [00:02<3:15:58,  4.70it/s]\n"
     ]
    },
    {
     "name": "stdout",
     "output_type": "stream",
     "text": [
      "📉 Epoch 2 (partial) Loss: 0.6831 | LR: 9.05e-05\n"
     ]
    },
    {
     "name": "stderr",
     "output_type": "stream",
     "text": [
      "Epoch 3:   0%|          | 10/55296 [00:02<3:24:10,  4.51it/s]"
     ]
    },
    {
     "name": "stdout",
     "output_type": "stream",
     "text": [
      "📉 Epoch 3 (partial) Loss: 0.3216 | LR: 7.94e-05\n"
     ]
    },
    {
     "name": "stderr",
     "output_type": "stream",
     "text": [
      "\n"
     ]
    }
   ],
   "source": [
    "# Cell 6: 빠른 학습 루프 (1 epoch, 일부 batch만)\n",
    "from tqdm import tqdm\n",
    "\n",
    "model.train()\n",
    "n_batch = 10  # 테스트용으로 10개 배치만 학습\n",
    "\n",
    "for epoch in range(3):\n",
    "    total_loss = 0.0\n",
    "    for i, (inputs, targets) in enumerate(tqdm(loader, desc=f\"Epoch {epoch+1}\")):\n",
    "        if i >= n_batch:\n",
    "            break\n",
    "        inputs, targets = inputs.to(device), targets.to(device)\n",
    "        \n",
    "        optimizer.zero_grad()\n",
    "        outputs = model(inputs)  # outputs.shape: [B, 1]\n",
    "        loss = mse_loss(outputs, targets)\n",
    "        loss.backward()\n",
    "        optimizer.step()\n",
    "        total_loss += loss.item()\n",
    "\n",
    "    scheduler.step()\n",
    "    print(f\"📉 Epoch {epoch+1} (partial) Loss: {total_loss / n_batch:.4f} | LR: {scheduler.get_last_lr()[0]:.2e}\")\n",
    "\n"
   ]
  },
  {
   "cell_type": "code",
   "execution_count": 12,
   "id": "b14af2e6-ab63-4674-8748-edfdbb8fb344",
   "metadata": {},
   "outputs": [],
   "source": [
    "import matplotlib.pyplot as plt\n",
    "\n",
    "model.eval()\n",
    "with torch.no_grad():\n",
    "    input_sample, target_sample = next(iter(loader))\n",
    "    input_sample, target_sample = input_sample.to(device), target_sample.to(device)\n",
    "    pred_sample = model(input_sample)\n",
    "\n",
    "\n"
   ]
  },
  {
   "cell_type": "code",
   "execution_count": 14,
   "id": "b0150e79-6b32-4818-9ff0-e85abd20a816",
   "metadata": {},
   "outputs": [
    {
     "data": {
      "image/png": "[encoded data removed]",
      "text/plain": [
       "<Figure size 1500x400 with 3 Axes>"
      ]
     },
     "metadata": {},
     "output_type": "display_data"
    }
   ],
   "source": [
    "import matplotlib.pyplot as plt\n",
    "import numpy as np\n",
    "import torch\n",
    "\n",
    "# 예시: input = [B, 1, D, H, W] 중에서 B=0, D=30인 2D 슬라이스\n",
    "input_slice = inputs[0, 0, 30].detach().cpu().numpy()\n",
    "target_slice = targets[0, 0, 30].detach().cpu().numpy()\n",
    "pred_slice = outputs[0, 0, 30].detach().cpu().numpy()\n",
    "\n",
    "# ✅ log-transform (0을 피하기 위해 log(1 + x) 사용)\n",
    "input_log = np.log10(1 + input_slice)\n",
    "\n",
    "# 📊 시각화\n",
    "fig, axs = plt.subplots(1, 3, figsize=(15, 4))\n",
    "\n",
    "axs[0].imshow(input_log, cmap='viridis')\n",
    "axs[0].set_title('Input (log10)')\n",
    "\n",
    "axs[1].imshow(target_slice, cmap='viridis')\n",
    "axs[1].set_title('Target')\n",
    "\n",
    "axs[2].imshow(pred_slice, cmap='viridis')\n",
    "axs[2].set_title('Prediction')\n",
    "\n",
    "for ax in axs:\n",
    "    ax.axis('off')\n",
    "\n",
    "plt.suptitle('ViT Model Prediction from 3D Density Field (Slice z=30)', fontsize=16)  # ✅ 전체 제목 추가\n",
    "plt.tight_layout()\n",
    "plt.show()\n"
   ]
  },
  {
   "cell_type": "code",
   "execution_count": 1,
   "id": "b27c38a7-5410-4ccd-97b9-f40f1dcf1a0f",
   "metadata": {},
   "outputs": [
    {
     "data": {
      "text/plain": [
       "'vit3d_module_schematic.png'"
      ]
     },
     "execution_count": 1,
     "metadata": {},
     "output_type": "execute_result"
    }
   ],
   "source": [
    "from graphviz import Digraph\n",
    "\n",
    "g = Digraph(comment=\"ViT3D Module-level Schematic\", format=\"png\")\n",
    "g.attr(rankdir=\"LR\")  # 왼쪽에서 오른쪽 흐름\n",
    "\n",
    "# Input / patch embedding / projection\n",
    "g.node(\"In\", \"Input [B,1,60³]\")\n",
    "g.node(\"PatchEmbed\", \"Patch Embedding + Linear Projection\\n-> [B, N_patches=216, D=256]\")\n",
    "g.edge(\"In\", \"PatchEmbed\")\n",
    "\n",
    "# Optional LayerNorm before/after projection\n",
    "g.node(\"PreLN\", \"LayerNorm\")\n",
    "g.edge(\"PatchEmbed\", \"PreLN\")\n",
    "\n",
    "# Dropout\n",
    "g.node(\"Dropout\", \"Dropout\")\n",
    "g.edge(\"PreLN\", \"Dropout\")\n",
    "\n",
    "# Transformer blocks with residuals (showing N times)\n",
    "for i in range(1, 7):  # assuming 6 transformer layers as in summary\n",
    "    attn = f\"Attn{i}\"\n",
    "    mlp = f\"MLP{i}\"\n",
    "    ln1 = f\"LN1_{i}\"\n",
    "    ln2 = f\"LN2_{i}\"\n",
    "    res1 = f\"Res1_{i}\"\n",
    "    res2 = f\"Res2_{i}\"\n",
    "\n",
    "    # LayerNorm -> Self-Attention -> residual\n",
    "    g.node(ln1, \"LayerNorm\")\n",
    "    g.node(attn, \"Multi-Head Self-Attention\")\n",
    "    g.node(res1, \"Residual Add\")\n",
    "    g.edge(\"Dropout\" if i == 1 else res2, ln1)\n",
    "    g.edge(ln1, attn)\n",
    "    g.edge(attn, res1)\n",
    "    g.edge(res1, res1, style=\"invis\")  # to keep layout stable\n",
    "\n",
    "    # LayerNorm -> MLP -> residual\n",
    "    g.node(ln2, \"LayerNorm\")\n",
    "    g.node(mlp, \"MLP (FFN)\")\n",
    "    g.node(res2, \"Residual Add\")\n",
    "    g.edge(res1, ln2)\n",
    "    g.edge(ln2, mlp)\n",
    "    g.edge(mlp, res2)\n",
    "\n",
    "# Final projection back\n",
    "g.node(\"PostLN\", \"LayerNorm\")\n",
    "g.node(\"Proj\", \"Linear Head (to token dim 1000)\")\n",
    "g.edge(res2, \"PostLN\")\n",
    "g.edge(\"PostLN\", \"Proj\")\n",
    "\n",
    "# Output (could be reshaped back to 3D)\n",
    "g.node(\"Out\", \"Output [B,1,60³] (via reshape/regression head)\")\n",
    "g.edge(\"Proj\", \"Out\")\n",
    "\n",
    "# Render\n",
    "g.render(\"vit3d_module_schematic\", cleanup=True)\n"
   ]
  },
  {
   "cell_type": "code",
   "execution_count": 2,
   "id": "f081ea7a-7f2d-4767-bdaf-b9e27365ba97",
   "metadata": {},
   "outputs": [
    {
     "data": {
      "text/plain": [
       "'vit3d_compact_schematic.png'"
      ]
     },
     "execution_count": 2,
     "metadata": {},
     "output_type": "execute_result"
    }
   ],
   "source": [
    "from graphviz import Digraph\n",
    "\n",
    "g = Digraph(comment=\"Compact ViT3D Schematic\", format=\"png\")\n",
    "g.attr(rankdir=\"LR\", fontsize=\"12\")\n",
    "\n",
    "# Nodes\n",
    "g.node(\"Input\", \"Input 3D Volume\\n[B,1,60³]\")\n",
    "g.node(\"PatchProj\", \"Patch Embedding\\n+ Positional Encoding\\n→ [B, 216, 256]\")\n",
    "g.node(\"Transformer\", \"Transformer Block ×6\\n(Pre-LN, Self-Attn + Residual\\n→ MLP + Residual)\")\n",
    "g.node(\"FinalNorm\", \"LayerNorm\")\n",
    "g.node(\"Head\", \"Linear Projection\\n(to token dim / regression space)\")\n",
    "g.node(\"Reshape\", \"Reshape / Regression\\n→ Output 3D Volume\\n[B,1,60³]\")\n",
    "g.node(\"Output\", \"Reconstructed Overdensity\")\n",
    "\n",
    "# Edges\n",
    "g.edge(\"Input\", \"PatchProj\")\n",
    "g.edge(\"PatchProj\", \"Transformer\")\n",
    "g.edge(\"Transformer\", \"FinalNorm\")\n",
    "g.edge(\"FinalNorm\", \"Head\")\n",
    "g.edge(\"Head\", \"Reshape\")\n",
    "g.edge(\"Reshape\", \"Output\")\n",
    "\n",
    "# Optional annotation: residuals inside transformer block indicated in label already\n",
    "g.render(\"vit3d_compact_schematic\", cleanup=True)\n"
   ]
  },
  {
   "cell_type": "code",
   "execution_count": null,
   "id": "e7f0aca3-a88e-4690-91fb-bc35c44d0f90",
   "metadata": {},
   "outputs": [],
   "source": []
  }
 ],
 "metadata": {
  "kernelspec": {
   "display_name": "Python (py312)",
   "language": "python",
   "name": "py312"
  },
  "language_info": {
   "codemirror_mode": {
    "name": "ipython",
    "version": 3
   },
   "file_extension": ".py",
   "mimetype": "text/x-python",
   "name": "python",
   "nbconvert_exporter": "python",
   "pygments_lexer": "ipython3",
   "version": "3.12.0"
  }
 },
 "nbformat": 4,
 "nbformat_minor": 5
}
