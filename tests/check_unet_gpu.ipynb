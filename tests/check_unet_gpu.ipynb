{
 "cells": [
  {
   "cell_type": "code",
   "execution_count": 5,
   "id": "0c441891-9fc3-416f-959f-63291235b528",
   "metadata": {},
   "outputs": [],
   "source": [
    "# Cell 0: shared 모듈 임포트용 경로 설정\n",
    "import sys\n",
    "import os\n",
    "\n",
    "# 상위 디렉토리를 sys.path에 추가\n",
    "sys.path.append(os.path.abspath(\"..\"))"
   ]
  },
  {
   "cell_type": "code",
   "execution_count": 6,
   "id": "9a664799-4b4f-4cb4-8150-d74b4b7224f0",
   "metadata": {},
   "outputs": [
    {
     "name": "stdout",
     "output_type": "stream",
     "text": [
      "✅ Torch version: 2.6.0+cu124\n",
      "✅ CUDA available: True\n",
      "✅ GPU name: Quadro RTX 5000\n"
     ]
    }
   ],
   "source": [
    "import torch\n",
    "\n",
    "print(f\"✅ Torch version: {torch.__version__}\")\n",
    "print(f\"✅ CUDA available: {torch.cuda.is_available()}\")\n",
    "if torch.cuda.is_available():\n",
    "    print(f\"✅ GPU name: {torch.cuda.get_device_name(0)}\")\n"
   ]
  },
  {
   "cell_type": "code",
   "execution_count": 3,
   "id": "1ea57d57-6688-4633-8a3e-1b9c386c075e",
   "metadata": {},
   "outputs": [
    {
     "ename": "TypeError",
     "evalue": "HDF5Dataset.__init__() missing 1 required positional argument: 'output_files'",
     "output_type": "error",
     "traceback": [
      "\u001b[31m---------------------------------------------------------------------------\u001b[39m",
      "\u001b[31mTypeError\u001b[39m                                 Traceback (most recent call last)",
      "\u001b[36mCell\u001b[39m\u001b[36m \u001b[39m\u001b[32mIn[4]\u001b[39m\u001b[32m, line 15\u001b[39m\n\u001b[32m      8\u001b[39m input_files = [os.path.join(input_dir, \u001b[33mf\u001b[39m\u001b[33m\"\u001b[39m\u001b[33msubcubes_stride2_50mpc_parallel_\u001b[39m\u001b[38;5;132;01m{\u001b[39;00mi\u001b[38;5;132;01m:\u001b[39;00m\u001b[33m03d\u001b[39m\u001b[38;5;132;01m}\u001b[39;00m\u001b[33m.h5\u001b[39m\u001b[33m\"\u001b[39m) \u001b[38;5;28;01mfor\u001b[39;00m i \u001b[38;5;129;01min\u001b[39;00m \u001b[38;5;28mrange\u001b[39m(\u001b[32m1\u001b[39m)]\n\u001b[32m      9\u001b[39m \u001b[38;5;66;03m#output_files = [os.path.join(output_dir, f\"subcubes_stride2_50mpc_parallel_{i:03d}.h5\") for i in range(5)]\u001b[39;00m\n\u001b[32m     10\u001b[39m \n\u001b[32m     11\u001b[39m \u001b[38;5;66;03m#dataset = HDF5Dataset(input_files, output_files)\u001b[39;00m\n\u001b[32m     12\u001b[39m \u001b[38;5;66;03m#x, y = dataset[0]\u001b[39;00m\n\u001b[32m     13\u001b[39m \u001b[38;5;66;03m#print(f\"✅ Input shape: {x.shape}, Output shape: {y.shape}\")\u001b[39;00m\n\u001b[32m---> \u001b[39m\u001b[32m15\u001b[39m dataset = \u001b[43mHDF5Dataset\u001b[49m\u001b[43m(\u001b[49m\u001b[43minput_files\u001b[49m\u001b[43m)\u001b[49m\n\u001b[32m     16\u001b[39m x = dataset[\u001b[32m0\u001b[39m]\n\u001b[32m     17\u001b[39m \u001b[38;5;28mprint\u001b[39m(\u001b[33mf\u001b[39m\u001b[33m\"\u001b[39m\u001b[33m✅ Input shape: \u001b[39m\u001b[38;5;132;01m{\u001b[39;00mx.shape\u001b[38;5;132;01m}\u001b[39;00m\u001b[33m\"\u001b[39m)\n",
      "\u001b[31mTypeError\u001b[39m: HDF5Dataset.__init__() missing 1 required positional argument: 'output_files'"
     ]
    }
   ],
   "source": [
    "from shared.data_loader import HDF5Dataset\n",
    "\n",
    "input_path = \"/caefs/data/IllustrisTNG/subcube/input/subcubes_stride2_50mpc_parallel_000.h5\"\n",
    "output_path = \"/caefs/data/IllustrisTNG/subcube/output/subcubes_stride2_50mpc_parallel_000.h5\"\n",
    "\n",
    "dataset = HDF5Dataset(input_path, output_path)\n",
    "x, y = dataset[0]\n",
    "\n",
    "print(f\"✅ Input shape: {x.shape}, Output shape: {y.shape}\")\n"
   ]
  },
  {
   "cell_type": "code",
   "execution_count": null,
   "id": "4cedc859-d3ed-4166-9b35-cfdde0fa73ad",
   "metadata": {},
   "outputs": [],
   "source": [
    "from models.unet.model import UNet3D\n",
    "\n",
    "device = \"cuda\" if torch.cuda.is_available() else \"cpu\"\n",
    "model = UNet3D().to(device)\n",
    "\n",
    "print(f\"✅ Model loaded on device: {device}\")\n"
   ]
  }
 ],
 "metadata": {
  "kernelspec": {
   "display_name": "Python (py312)",
   "language": "python",
   "name": "py312"
  },
  "language_info": {
   "codemirror_mode": {
    "name": "ipython",
    "version": 3
   },
   "file_extension": ".py",
   "mimetype": "text/x-python",
   "name": "python",
   "nbconvert_exporter": "python",
   "pygments_lexer": "ipython3",
   "version": "3.12.0"
  }
 },
 "nbformat": 4,
 "nbformat_minor": 5
}
