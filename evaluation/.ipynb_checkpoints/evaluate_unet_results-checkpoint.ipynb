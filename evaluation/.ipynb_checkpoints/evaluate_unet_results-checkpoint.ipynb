{
 "cells": [
  {
   "cell_type": "code",
   "execution_count": null,
   "id": "9c3ef968-1f98-419f-9667-8c82e4819757",
   "metadata": {},
   "outputs": [],
   "source": [
    "# 📁 Cell 0: 모듈 임포트 및 경로 설정\n",
    "import os\n",
    "import h5py\n",
    "import numpy as np\n",
    "import pandas as pd\n",
    "import matplotlib.pyplot as plt\n",
    "\n",
    "# 경로 설정\n",
    "log_path = \"results/unet/log_train.csv\"\n",
    "prediction_file = \"results/unet/predictions.h5\"  # predict.py로 저장된 결과\n",
    "index = 0  # 비교할 서브큐브 인덱스\n"
   ]
  },
  {
   "cell_type": "code",
   "execution_count": null,
   "id": "844121ac-d2cd-478c-82f9-f748c434e7b6",
   "metadata": {},
   "outputs": [],
   "source": [
    "# 📈 Cell 1: 학습 곡선 시각화\n",
    "\n",
    "log = pd.read_csv(log_path)\n",
    "\n",
    "plt.figure(figsize=(8, 5))\n",
    "plt.plot(log[\"epoch\"], log[\"train_loss\"], label=\"Train Loss\")\n",
    "plt.plot(log[\"epoch\"], log[\"val_loss\"], label=\"Validation Loss\")\n",
    "plt.xlabel(\"Epoch\")\n",
    "plt.ylabel(\"Loss\")\n",
    "plt.title(\"Training and Validation Loss Curve\")\n",
    "plt.grid(True)\n",
    "plt.legend()\n",
    "plt.show()\n"
   ]
  },
  {
   "cell_type": "code",
   "execution_count": null,
   "id": "2d3f63cd-9c9c-4c62-87c5-648932d523df",
   "metadata": {},
   "outputs": [],
   "source": [
    "# 🧠 Cell 2: 예측 vs GT vs 입력 시각화\n",
    "\n",
    "def plot_projection_comparison(input_cube, gt_cube, pred_cube, axis=0):\n",
    "    \"\"\"\n",
    "    3D 큐브를 projection한 후 비교 시각화\n",
    "    \"\"\"\n",
    "    input_proj = np.sum(input_cube, axis=axis)\n",
    "    gt_proj = np.sum(gt_cube, axis=axis)\n",
    "    pred_proj = np.sum(pred_cube, axis=axis)\n",
    "\n",
    "    fig, axs = plt.subplots(1, 3, figsize=(15, 5))\n",
    "    axs[0].imshow(input_proj, origin=\"lower\", cmap=\"viridis\")\n",
    "    axs[0].set_title(\"Input (Evolved Density)\")\n",
    "\n",
    "    axs[1].imshow(gt_proj, origin=\"lower\", cmap=\"viridis\")\n",
    "    axs[1].set_title(\"GT Initial Density\")\n",
    "\n",
    "    axs[2].imshow(pred_proj, origin=\"lower\", cmap=\"viridis\")\n",
    "    axs[2].set_title(\"Predicted Initial Density\")\n",
    "\n",
    "    for ax in axs:\n",
    "        ax.axis(\"off\")\n",
    "\n",
    "    plt.tight_layout()\n",
    "    plt.show()\n"
   ]
  },
  {
   "cell_type": "code",
   "execution_count": null,
   "id": "6dbb49c2-b8e4-47a6-bc84-f0cc1392c79c",
   "metadata": {},
   "outputs": [],
   "source": [
    "# 📂 Cell 3: 데이터 불러오기 및 시각화 실행\n",
    "\n",
    "with h5py.File(prediction_file, \"r\") as f:\n",
    "    x = f[\"input\"][index][0]   # shape: (60, 60, 60)\n",
    "    y = f[\"target\"][index][0]\n",
    "    pred = f[\"prediction\"][index][0]\n",
    "\n",
    "plot_projection_comparison(x, y, pred, axis=0)  # Z축 projection\n"
   ]
  }
 ],
 "metadata": {
  "kernelspec": {
   "display_name": "Python (py312)",
   "language": "python",
   "name": "py312"
  },
  "language_info": {
   "codemirror_mode": {
    "name": "ipython",
    "version": 3
   },
   "file_extension": ".py",
   "mimetype": "text/x-python",
   "name": "python",
   "nbconvert_exporter": "python",
   "pygments_lexer": "ipython3",
   "version": "3.12.0"
  }
 },
 "nbformat": 4,
 "nbformat_minor": 5
}
