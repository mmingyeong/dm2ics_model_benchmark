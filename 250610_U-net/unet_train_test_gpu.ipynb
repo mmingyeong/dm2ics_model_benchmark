{
 "cells": [
  {
   "cell_type": "code",
   "execution_count": 1,
   "metadata": {
    "execution": {
     "iopub.execute_input": "2025-06-10T02:43:57.339975Z",
     "iopub.status.busy": "2025-06-10T02:43:57.339502Z",
     "iopub.status.idle": "2025-06-10T02:44:00.629876Z",
     "shell.execute_reply": "2025-06-10T02:44:00.628615Z",
     "shell.execute_reply.started": "2025-06-10T02:43:57.339922Z"
    }
   },
   "outputs": [
    {
     "name": "stdout",
     "output_type": "stream",
     "text": [
      "Using device: cpu\n"
     ]
    }
   ],
   "source": [
    "# 📦 라이브러리 불러오기\n",
    "import h5py\n",
    "import numpy as np\n",
    "import torch\n",
    "import torch.nn as nn\n",
    "from torch.utils.data import Dataset, DataLoader\n",
    "import matplotlib.pyplot as plt\n",
    "from tqdm import tqdm\n",
    "\n",
    "# ⚙️ 디바이스 설정\n",
    "device = torch.device(\"cpu\")\n",
    "print(f\"Using device: {device}\")\n"
   ]
  },
  {
   "cell_type": "code",
   "execution_count": 2,
   "metadata": {
    "execution": {
     "iopub.execute_input": "2025-06-10T02:44:00.632190Z",
     "iopub.status.busy": "2025-06-10T02:44:00.631249Z",
     "iopub.status.idle": "2025-06-10T02:44:00.642376Z",
     "shell.execute_reply": "2025-06-10T02:44:00.641189Z",
     "shell.execute_reply.started": "2025-06-10T02:44:00.632132Z"
    }
   },
   "outputs": [],
   "source": [
    "# 📁 HDF5 데이터셋 정의\n",
    "class HDF5Dataset(Dataset):\n",
    "    def __init__(self, input_path, output_path):\n",
    "        self.input_file = h5py.File(input_path, 'r')\n",
    "        self.output_file = h5py.File(output_path, 'r')\n",
    "        self.X = self.input_file['subcubes']\n",
    "        self.Y = self.output_file['subcubes']\n",
    "    \n",
    "    def __len__(self):\n",
    "        return len(self.X)\n",
    "\n",
    "    def __getitem__(self, idx):\n",
    "        x = torch.from_numpy(self.X[idx]).float().unsqueeze(0)  # (1, 122, 122, 122)\n",
    "        y = torch.from_numpy(self.Y[idx]).float().unsqueeze(0)\n",
    "        return x, y\n"
   ]
  },
  {
   "cell_type": "code",
   "execution_count": 3,
   "metadata": {
    "execution": {
     "iopub.execute_input": "2025-06-10T02:44:00.646083Z",
     "iopub.status.busy": "2025-06-10T02:44:00.645626Z",
     "iopub.status.idle": "2025-06-10T02:44:00.660764Z",
     "shell.execute_reply": "2025-06-10T02:44:00.659612Z",
     "shell.execute_reply.started": "2025-06-10T02:44:00.646028Z"
    }
   },
   "outputs": [],
   "source": [
    "# 🧠 간단한 U-Net (crop 추가 적용)\n",
    "class UNet3D(nn.Module):\n",
    "    def __init__(self):\n",
    "        super().__init__()\n",
    "        self.enc1 = nn.Sequential(nn.Conv3d(1, 32, 3, padding=1), nn.BatchNorm3d(32), nn.ReLU())\n",
    "        self.enc2 = nn.Sequential(nn.Conv3d(32, 64, 3, padding=1), nn.BatchNorm3d(64), nn.ReLU())\n",
    "        self.pool = nn.MaxPool3d(2)\n",
    "        self.middle = nn.Sequential(nn.Conv3d(64, 64, 3, padding=1), nn.ReLU())\n",
    "        self.up = nn.Upsample(scale_factor=2, mode='trilinear', align_corners=False)\n",
    "        self.dec2 = nn.Sequential(nn.Conv3d(128, 32, 3, padding=1), nn.ReLU())\n",
    "        self.dec1 = nn.Sequential(nn.Conv3d(64, 1, 3, padding=1))\n",
    "\n",
    "    def forward(self, x):\n",
    "        x1 = self.enc1(x)\n",
    "        x2 = self.enc2(self.pool(x1))\n",
    "        x_mid = self.middle(x2)\n",
    "        x_up = self.up(x_mid)[:, :, :x2.shape[2], :x2.shape[3], :x2.shape[4]]\n",
    "        x_concat2 = torch.cat([x2, x_up], dim=1)\n",
    "        x3 = self.dec2(x_concat2)\n",
    "        x_up2 = self.up(x3)[:, :, :x1.shape[2], :x1.shape[3], :x1.shape[4]]\n",
    "        x_concat1 = torch.cat([x1, x_up2], dim=1)\n",
    "        out = self.dec1(x_concat1)\n",
    "        return out\n"
   ]
  },
  {
   "cell_type": "code",
   "execution_count": 4,
   "metadata": {
    "execution": {
     "iopub.execute_input": "2025-06-10T02:44:00.662501Z",
     "iopub.status.busy": "2025-06-10T02:44:00.662084Z",
     "iopub.status.idle": "2025-06-10T02:44:00.681059Z",
     "shell.execute_reply": "2025-06-10T02:44:00.679872Z",
     "shell.execute_reply.started": "2025-06-10T02:44:00.662458Z"
    }
   },
   "outputs": [],
   "source": [
    "# 🧪 데이터 로딩\n",
    "input_path = \"/caefs/data/IllustrisTNG/subcube/input/subcubes_stride2_50mpc_parallel.h5\"\n",
    "output_path = \"/caefs/data/IllustrisTNG/subcube/output/subcubes_stride2_50mpc_parallel.h5\"\n",
    "dataset = HDF5Dataset(input_path, output_path)\n",
    "loader = DataLoader(dataset, batch_size=1, shuffle=True)\n"
   ]
  },
  {
   "cell_type": "code",
   "execution_count": 5,
   "metadata": {
    "execution": {
     "iopub.execute_input": "2025-06-10T02:44:00.682870Z",
     "iopub.status.busy": "2025-06-10T02:44:00.682257Z",
     "iopub.status.idle": "2025-06-10T02:44:02.676864Z",
     "shell.execute_reply": "2025-06-10T02:44:02.675667Z",
     "shell.execute_reply.started": "2025-06-10T02:44:00.682828Z"
    }
   },
   "outputs": [],
   "source": [
    "# 🧠 모델 초기화\n",
    "model = UNet3D().to(device)\n",
    "loss_fn = nn.MSELoss()\n",
    "optimizer = torch.optim.Adam(model.parameters(), lr=1e-3)\n"
   ]
  },
  {
   "cell_type": "code",
   "execution_count": null,
   "metadata": {
    "execution": {
     "iopub.execute_input": "2025-06-10T02:44:02.678632Z",
     "iopub.status.busy": "2025-06-10T02:44:02.678087Z"
    }
   },
   "outputs": [
    {
     "name": "stderr",
     "output_type": "stream",
     "text": [
      "  1%|          | 100/10000 [04:16<7:03:05,  2.56s/it]\n"
     ]
    },
    {
     "name": "stdout",
     "output_type": "stream",
     "text": [
      "Epoch 1/10 - Avg Loss: 0.113047\n"
     ]
    },
    {
     "name": "stderr",
     "output_type": "stream",
     "text": [
      "  1%|          | 100/10000 [04:21<7:11:28,  2.61s/it]\n"
     ]
    },
    {
     "name": "stdout",
     "output_type": "stream",
     "text": [
      "Epoch 2/10 - Avg Loss: 0.021190\n"
     ]
    },
    {
     "name": "stderr",
     "output_type": "stream",
     "text": [
      "  0%|          | 28/10000 [01:09<6:32:16,  2.36s/it]"
     ]
    }
   ],
   "source": [
    "# 🔁 학습 루프 + 손실 추적\n",
    "num_epochs = 10\n",
    "train_losses = []\n",
    "\n",
    "for epoch in range(num_epochs):\n",
    "    model.train()\n",
    "    total_loss = 0\n",
    "\n",
    "    for step, (x, y) in enumerate(tqdm(loader)):\n",
    "        x, y = x.to(device), y.to(device)\n",
    "\n",
    "        optimizer.zero_grad()\n",
    "        pred = model(x)\n",
    "        loss = loss_fn(pred, y)\n",
    "        loss.backward()\n",
    "        optimizer.step()\n",
    "\n",
    "        total_loss += loss.item()\n",
    "\n",
    "        if step >= 100:  # 학습 속도 고려해 step 수 제한 (선택)\n",
    "            break\n",
    "\n",
    "    avg_loss = total_loss / (step + 1)\n",
    "    train_losses.append(avg_loss)\n",
    "    print(f\"Epoch {epoch+1}/{num_epochs} - Avg Loss: {avg_loss:.6f}\")\n"
   ]
  },
  {
   "cell_type": "code",
   "execution_count": null,
   "metadata": {},
   "outputs": [],
   "source": [
    "# 📉 학습 곡선 시각화\n",
    "plt.figure(figsize=(6, 4))\n",
    "plt.plot(range(1, num_epochs + 1), train_losses, marker='o')\n",
    "plt.title(\"Training Loss per Epoch\")\n",
    "plt.xlabel(\"Epoch\")\n",
    "plt.ylabel(\"MSE Loss\")\n",
    "plt.grid(True)\n",
    "plt.tight_layout()\n",
    "plt.show()\n"
   ]
  },
  {
   "cell_type": "code",
   "execution_count": null,
   "metadata": {},
   "outputs": [],
   "source": [
    "# 🖼️ 예측 결과 시각화 (중앙 슬라이스만)\n",
    "model.eval()\n",
    "with torch.no_grad():\n",
    "    x, y = dataset[0]\n",
    "    x = x.unsqueeze(0).to(device)\n",
    "    pred = model(x).cpu().squeeze().numpy()\n",
    "    truth = y.squeeze().numpy()\n",
    "\n",
    "    slice_idx = 61\n",
    "    plt.figure(figsize=(15, 5))\n",
    "    plt.subplot(1, 2, 1)\n",
    "    plt.imshow(truth[slice_idx], cmap='viridis')\n",
    "    plt.title(\"True\")\n",
    "    plt.colorbar()\n",
    "    plt.subplot(1, 2, 2)\n",
    "    plt.imshow(pred[slice_idx], cmap='viridis')\n",
    "    plt.title(\"Predicted\")\n",
    "    plt.colorbar()\n",
    "    plt.show()\n"
   ]
  },
  {
   "cell_type": "code",
   "execution_count": null,
   "metadata": {},
   "outputs": [],
   "source": []
  }
 ],
 "metadata": {
  "kernelspec": {
   "display_name": "Python (new_env)",
   "language": "python",
   "name": "new_env"
  },
  "language_info": {
   "codemirror_mode": {
    "name": "ipython",
    "version": 3
   },
   "file_extension": ".py",
   "mimetype": "text/x-python",
   "name": "python",
   "nbconvert_exporter": "python",
   "pygments_lexer": "ipython3",
   "version": "3.10.16"
  }
 },
 "nbformat": 4,
 "nbformat_minor": 4
}
