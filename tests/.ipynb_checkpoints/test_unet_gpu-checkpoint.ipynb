{
 "cells": [
  {
   "cell_type": "code",
   "execution_count": 1,
   "id": "0c441891-9fc3-416f-959f-63291235b528",
   "metadata": {},
   "outputs": [],
   "source": [
    "# Cell 0: shared 모듈 임포트용 경로 설정\n",
    "import sys\n",
    "import os\n",
    "\n",
    "# 상위 디렉토리를 sys.path에 추가\n",
    "sys.path.append(os.path.abspath(\"..\"))"
   ]
  },
  {
   "cell_type": "code",
   "execution_count": 2,
   "id": "9a664799-4b4f-4cb4-8150-d74b4b7224f0",
   "metadata": {},
   "outputs": [
    {
     "name": "stdout",
     "output_type": "stream",
     "text": [
      "✅ Torch version: 2.6.0+cu124\n",
      "🔍 CUDA available: True\n",
      "🚀 Current GPU: Quadro RTX 5000\n"
     ]
    }
   ],
   "source": [
    "# ✅ Cell 0: GPU 환경 확인\n",
    "import torch\n",
    "print(\"✅ Torch version:\", torch.__version__)\n",
    "print(\"✅ CUDA available:\", torch.cuda.is_available())\n",
    "if torch.cuda.is_available():\n",
    "    print(\"🚀 CUDA device:\", torch.cuda.get_device_name(0))\n",
    "else:\n",
    "    print(\"⚠ GPU not available\")"
   ]
  },
  {
   "cell_type": "code",
   "execution_count": 3,
   "id": "1ea57d57-6688-4633-8a3e-1b9c386c075e",
   "metadata": {},
   "outputs": [
    {
     "ename": "TypeError",
     "evalue": "HDF5Dataset.__init__() missing 1 required positional argument: 'output_files'",
     "output_type": "error",
     "traceback": [
      "\u001b[31m---------------------------------------------------------------------------\u001b[39m",
      "\u001b[31mTypeError\u001b[39m                                 Traceback (most recent call last)",
      "\u001b[36mCell\u001b[39m\u001b[36m \u001b[39m\u001b[32mIn[4]\u001b[39m\u001b[32m, line 15\u001b[39m\n\u001b[32m      8\u001b[39m input_files = [os.path.join(input_dir, \u001b[33mf\u001b[39m\u001b[33m\"\u001b[39m\u001b[33msubcubes_stride2_50mpc_parallel_\u001b[39m\u001b[38;5;132;01m{\u001b[39;00mi\u001b[38;5;132;01m:\u001b[39;00m\u001b[33m03d\u001b[39m\u001b[38;5;132;01m}\u001b[39;00m\u001b[33m.h5\u001b[39m\u001b[33m\"\u001b[39m) \u001b[38;5;28;01mfor\u001b[39;00m i \u001b[38;5;129;01min\u001b[39;00m \u001b[38;5;28mrange\u001b[39m(\u001b[32m1\u001b[39m)]\n\u001b[32m      9\u001b[39m \u001b[38;5;66;03m#output_files = [os.path.join(output_dir, f\"subcubes_stride2_50mpc_parallel_{i:03d}.h5\") for i in range(5)]\u001b[39;00m\n\u001b[32m     10\u001b[39m \n\u001b[32m     11\u001b[39m \u001b[38;5;66;03m#dataset = HDF5Dataset(input_files, output_files)\u001b[39;00m\n\u001b[32m     12\u001b[39m \u001b[38;5;66;03m#x, y = dataset[0]\u001b[39;00m\n\u001b[32m     13\u001b[39m \u001b[38;5;66;03m#print(f\"✅ Input shape: {x.shape}, Output shape: {y.shape}\")\u001b[39;00m\n\u001b[32m---> \u001b[39m\u001b[32m15\u001b[39m dataset = \u001b[43mHDF5Dataset\u001b[49m\u001b[43m(\u001b[49m\u001b[43minput_files\u001b[49m\u001b[43m)\u001b[49m\n\u001b[32m     16\u001b[39m x = dataset[\u001b[32m0\u001b[39m]\n\u001b[32m     17\u001b[39m \u001b[38;5;28mprint\u001b[39m(\u001b[33mf\u001b[39m\u001b[33m\"\u001b[39m\u001b[33m✅ Input shape: \u001b[39m\u001b[38;5;132;01m{\u001b[39;00mx.shape\u001b[38;5;132;01m}\u001b[39;00m\u001b[33m\"\u001b[39m)\n",
      "\u001b[31mTypeError\u001b[39m: HDF5Dataset.__init__() missing 1 required positional argument: 'output_files'"
     ]
    }
   ],
   "source": [
    "# ✅ Cell 1: 모든 HDF5 파일 자동 로딩 및 정렬 (shared/data_loader 기반)\n",
    "from shared.data_loader import HDF5Dataset\n",
    "import os\n",
    "import glob\n",
    "\n",
    "# 디렉토리 경로 설정\n",
    "input_dir = \"/caefs/data/IllustrisTNG/subcube/input\"\n",
    "output_dir = \"/caefs/data/IllustrisTNG/subcube/output\"\n",
    "\n",
    "# glob + 정렬을 통해 모든 파일 자동 수집\n",
    "input_files = sorted(glob.glob(os.path.join(input_dir, \"subcubes_stride2_50mpc_parallel_*.h5\")))\n",
    "output_files = sorted(glob.glob(os.path.join(output_dir, \"subcubes_stride2_50mpc_parallel_*.h5\")))\n",
    "\n",
    "# 기본 검증 출력\n",
    "print(f\"📁 Found {len(input_files)} input files\")\n",
    "print(f\"📁 Found {len(output_files)} output files\")\n",
    "\n",
    "# 데이터셋 생성 및 첫 샘플 확인\n",
    "dataset = HDF5Dataset(input_files, output_files)\n",
    "x, y = dataset[0]\n",
    "\n",
    "print(f\"✅ Sample loaded: Input shape = {x.shape}, Output shape = {y.shape}\")\n"
   ]
  },
  {
   "cell_type": "code",
   "execution_count": null,
   "id": "4cedc859-d3ed-4166-9b35-cfdde0fa73ad",
   "metadata": {},
   "outputs": [],
   "source": [
    "# ✅ Cell 2: U-Net 모델 불러오기 및 GPU 할당\n",
    "from models.unet3d import UNet3D\n",
    "\n",
    "torch.manual_seed(42)\n",
    "device = torch.device(\"cuda\" if torch.cuda.is_available() else \"cpu\")\n",
    "model = UNet3D().to(device)\n",
    "x = x.unsqueeze(0).to(device)  # (1, 1, D, H, W)\n",
    "y = y.unsqueeze(0).to(device)"
   ]
  },
  {
   "cell_type": "code",
   "execution_count": null,
   "id": "1fdecec4-72bc-4f3a-a23e-521664b804af",
   "metadata": {},
   "outputs": [],
   "source": [
    "# ✅ Cell 3: Forward Pass 테스트\n",
    "model.eval()\n",
    "with torch.no_grad():\n",
    "    y_pred = model(x)\n",
    "\n",
    "print(f\"✅ Output shape from UNet3D: {y_pred.shape}\")"
   ]
  },
  {
   "cell_type": "code",
   "execution_count": null,
   "id": "7b054077-0964-44ca-93f1-7c060086d20c",
   "metadata": {},
   "outputs": [],
   "source": [
    "# ✅ Cell 4: MSE loss 계산\n",
    "import torch.nn as nn\n",
    "criterion = nn.MSELoss()\n",
    "loss = criterion(y_pred, y)\n",
    "print(f\"🎯 MSE Loss: {loss.item():.6f}\")"
   ]
  },
  {
   "cell_type": "code",
   "execution_count": null,
   "id": "7545881e-e699-4846-844d-a4ea327cfa5e",
   "metadata": {},
   "outputs": [],
   "source": [
    "# ✅ Cell 5: 간단한 학습 루프 테스트 (3 step만)\n",
    "from torch.utils.data import DataLoader\n",
    "import torch.optim as optim\n",
    "\n",
    "loader = DataLoader(dataset, batch_size=2, shuffle=True)\n",
    "model = UNet3D().to(device)\n",
    "optimizer = optim.Adam(model.parameters(), lr=1e-3)\n",
    "criterion = nn.MSELoss()\n",
    "\n",
    "model.train()\n",
    "for i, (xb, yb) in enumerate(loader):\n",
    "    xb, yb = xb.to(device), yb.to(device)\n",
    "    optimizer.zero_grad()\n",
    "    pred = model(xb)\n",
    "    loss = criterion(pred, yb)\n",
    "    loss.backward()\n",
    "    optimizer.step()\n",
    "    print(f\"✅ Step {i}: loss = {loss.item():.6f}\")\n",
    "    if i == 2:\n",
    "        break"
   ]
  },
  {
   "cell_type": "code",
   "execution_count": null,
   "id": "efe58f10-a433-48fd-9209-51e0573a6bbc",
   "metadata": {},
   "outputs": [],
   "source": [
    "# ✅ Cell 6: 예측 결과 HDF5 저장\n",
    "import h5py\n",
    "import numpy as np\n",
    "\n",
    "with torch.no_grad():\n",
    "    pred = model(x).cpu().numpy()\n",
    "    gt = y.cpu().numpy()\n",
    "\n",
    "with h5py.File(\"predicted_sample.h5\", \"w\") as f:\n",
    "    f.create_dataset(\"subcubes\", data=pred)\n",
    "    f.create_dataset(\"ground_truth\", data=gt)\n",
    "\n",
    "print(\"💾 Saved predicted_sample.h5 with prediction and ground truth.\")\n"
   ]
  }
 ],
 "metadata": {
  "kernelspec": {
   "display_name": "Python (py312)",
   "language": "python",
   "name": "py312"
  },
  "language_info": {
   "codemirror_mode": {
    "name": "ipython",
    "version": 3
   },
   "file_extension": ".py",
   "mimetype": "text/x-python",
   "name": "python",
   "nbconvert_exporter": "python",
   "pygments_lexer": "ipython3",
   "version": "3.12.0"
  }
 },
 "nbformat": 4,
 "nbformat_minor": 5
}
